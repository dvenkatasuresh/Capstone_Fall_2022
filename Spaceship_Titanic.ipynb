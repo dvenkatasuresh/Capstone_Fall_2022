{
 "cells": [
  {
   "cell_type": "code",
   "execution_count": 63,
   "metadata": {
    "_cell_guid": "b1076dfc-b9ad-4769-8c92-a6c4dae69d19",
    "_uuid": "8f2839f25d086af736a60e9eeb907d3b93b6e0e5",
    "execution": {
     "iopub.execute_input": "2022-08-14T14:09:03.039533Z",
     "iopub.status.busy": "2022-08-14T14:09:03.039099Z",
     "iopub.status.idle": "2022-08-14T14:09:03.047671Z",
     "shell.execute_reply": "2022-08-14T14:09:03.046081Z",
     "shell.execute_reply.started": "2022-08-14T14:09:03.039497Z"
    }
   },
   "outputs": [],
   "source": [
    "#=======================================================================================\n",
    "# Importing the libaries:\n",
    "#=======================================================================================\n",
    "import numpy as np \n",
    "import pandas as pd\n",
    "import seaborn as sns\n",
    "import matplotlib.pyplot as plt\n",
    "import plotly.express as px\n",
    "import plotly.graph_objects as go\n",
    "from plotly.subplots import make_subplots\n",
    "import warnings\n",
    "warnings.filterwarnings(\"ignore\")\n",
    "pd.set_option('display.max_columns', None)\n",
    "pd.options.display.max_seq_items = 8000\n",
    "pd.options.display.max_rows = 8000"
   ]
  },
  {
   "cell_type": "code",
   "execution_count": 64,
   "metadata": {
    "execution": {
     "iopub.execute_input": "2022-08-14T14:09:07.792726Z",
     "iopub.status.busy": "2022-08-14T14:09:07.792269Z",
     "iopub.status.idle": "2022-08-14T14:09:07.799052Z",
     "shell.execute_reply": "2022-08-14T14:09:07.79801Z",
     "shell.execute_reply.started": "2022-08-14T14:09:07.79269Z"
    }
   },
   "outputs": [],
   "source": [
    "#=======================================================================================\n",
    "# Importing the data:\n",
    "#=======================================================================================\n",
    "\n",
    "def read_data():\n",
    "    train_data = pd.read_csv(\"./train.csv\")\n",
    "    print(\"Train data imported successfully!!\")\n",
    "    print(\"-\"*50)\n",
    "    test_data = pd.read_csv(\"./test.csv\")\n",
    "    print(\"Test data imported successfully!!\")\n",
    "    return train_data , test_data"
   ]
  },
  {
   "cell_type": "code",
   "execution_count": 65,
   "metadata": {
    "execution": {
     "iopub.execute_input": "2022-08-14T14:09:10.556703Z",
     "iopub.status.busy": "2022-08-14T14:09:10.556261Z",
     "iopub.status.idle": "2022-08-14T14:09:10.612588Z",
     "shell.execute_reply": "2022-08-14T14:09:10.611232Z",
     "shell.execute_reply.started": "2022-08-14T14:09:10.55667Z"
    }
   },
   "outputs": [
    {
     "name": "stdout",
     "output_type": "stream",
     "text": [
      "Train data imported successfully!!\n",
      "--------------------------------------------------\n",
      "Test data imported successfully!!\n"
     ]
    }
   ],
   "source": [
    "train_data , test_data = read_data()"
   ]
  },
  {
   "cell_type": "code",
   "execution_count": 66,
   "metadata": {
    "execution": {
     "iopub.execute_input": "2022-08-14T14:09:13.16091Z",
     "iopub.status.busy": "2022-08-14T14:09:13.160494Z",
     "iopub.status.idle": "2022-08-14T14:09:13.184862Z",
     "shell.execute_reply": "2022-08-14T14:09:13.183437Z",
     "shell.execute_reply.started": "2022-08-14T14:09:13.160874Z"
    }
   },
   "outputs": [
    {
     "data": {
      "text/html": [
       "<div>\n",
       "<style scoped>\n",
       "    .dataframe tbody tr th:only-of-type {\n",
       "        vertical-align: middle;\n",
       "    }\n",
       "\n",
       "    .dataframe tbody tr th {\n",
       "        vertical-align: top;\n",
       "    }\n",
       "\n",
       "    .dataframe thead th {\n",
       "        text-align: right;\n",
       "    }\n",
       "</style>\n",
       "<table border=\"1\" class=\"dataframe\">\n",
       "  <thead>\n",
       "    <tr style=\"text-align: right;\">\n",
       "      <th></th>\n",
       "      <th>PassengerId</th>\n",
       "      <th>HomePlanet</th>\n",
       "      <th>CryoSleep</th>\n",
       "      <th>Cabin</th>\n",
       "      <th>Destination</th>\n",
       "      <th>Age</th>\n",
       "      <th>VIP</th>\n",
       "      <th>RoomService</th>\n",
       "      <th>FoodCourt</th>\n",
       "      <th>ShoppingMall</th>\n",
       "      <th>Spa</th>\n",
       "      <th>VRDeck</th>\n",
       "      <th>Name</th>\n",
       "      <th>Transported</th>\n",
       "    </tr>\n",
       "  </thead>\n",
       "  <tbody>\n",
       "    <tr>\n",
       "      <th>0</th>\n",
       "      <td>0001_01</td>\n",
       "      <td>Europa</td>\n",
       "      <td>False</td>\n",
       "      <td>B/0/P</td>\n",
       "      <td>TRAPPIST-1e</td>\n",
       "      <td>39.0</td>\n",
       "      <td>False</td>\n",
       "      <td>0.0</td>\n",
       "      <td>0.0</td>\n",
       "      <td>0.0</td>\n",
       "      <td>0.0</td>\n",
       "      <td>0.0</td>\n",
       "      <td>Maham Ofracculy</td>\n",
       "      <td>False</td>\n",
       "    </tr>\n",
       "    <tr>\n",
       "      <th>1</th>\n",
       "      <td>0002_01</td>\n",
       "      <td>Earth</td>\n",
       "      <td>False</td>\n",
       "      <td>F/0/S</td>\n",
       "      <td>TRAPPIST-1e</td>\n",
       "      <td>24.0</td>\n",
       "      <td>False</td>\n",
       "      <td>109.0</td>\n",
       "      <td>9.0</td>\n",
       "      <td>25.0</td>\n",
       "      <td>549.0</td>\n",
       "      <td>44.0</td>\n",
       "      <td>Juanna Vines</td>\n",
       "      <td>True</td>\n",
       "    </tr>\n",
       "    <tr>\n",
       "      <th>2</th>\n",
       "      <td>0003_01</td>\n",
       "      <td>Europa</td>\n",
       "      <td>False</td>\n",
       "      <td>A/0/S</td>\n",
       "      <td>TRAPPIST-1e</td>\n",
       "      <td>58.0</td>\n",
       "      <td>True</td>\n",
       "      <td>43.0</td>\n",
       "      <td>3576.0</td>\n",
       "      <td>0.0</td>\n",
       "      <td>6715.0</td>\n",
       "      <td>49.0</td>\n",
       "      <td>Altark Susent</td>\n",
       "      <td>False</td>\n",
       "    </tr>\n",
       "    <tr>\n",
       "      <th>3</th>\n",
       "      <td>0003_02</td>\n",
       "      <td>Europa</td>\n",
       "      <td>False</td>\n",
       "      <td>A/0/S</td>\n",
       "      <td>TRAPPIST-1e</td>\n",
       "      <td>33.0</td>\n",
       "      <td>False</td>\n",
       "      <td>0.0</td>\n",
       "      <td>1283.0</td>\n",
       "      <td>371.0</td>\n",
       "      <td>3329.0</td>\n",
       "      <td>193.0</td>\n",
       "      <td>Solam Susent</td>\n",
       "      <td>False</td>\n",
       "    </tr>\n",
       "    <tr>\n",
       "      <th>4</th>\n",
       "      <td>0004_01</td>\n",
       "      <td>Earth</td>\n",
       "      <td>False</td>\n",
       "      <td>F/1/S</td>\n",
       "      <td>TRAPPIST-1e</td>\n",
       "      <td>16.0</td>\n",
       "      <td>False</td>\n",
       "      <td>303.0</td>\n",
       "      <td>70.0</td>\n",
       "      <td>151.0</td>\n",
       "      <td>565.0</td>\n",
       "      <td>2.0</td>\n",
       "      <td>Willy Santantines</td>\n",
       "      <td>True</td>\n",
       "    </tr>\n",
       "  </tbody>\n",
       "</table>\n",
       "</div>"
      ],
      "text/plain": [
       "  PassengerId HomePlanet CryoSleep  Cabin  Destination   Age    VIP  \\\n",
       "0     0001_01     Europa     False  B/0/P  TRAPPIST-1e  39.0  False   \n",
       "1     0002_01      Earth     False  F/0/S  TRAPPIST-1e  24.0  False   \n",
       "2     0003_01     Europa     False  A/0/S  TRAPPIST-1e  58.0   True   \n",
       "3     0003_02     Europa     False  A/0/S  TRAPPIST-1e  33.0  False   \n",
       "4     0004_01      Earth     False  F/1/S  TRAPPIST-1e  16.0  False   \n",
       "\n",
       "   RoomService  FoodCourt  ShoppingMall     Spa  VRDeck               Name  \\\n",
       "0          0.0        0.0           0.0     0.0     0.0    Maham Ofracculy   \n",
       "1        109.0        9.0          25.0   549.0    44.0       Juanna Vines   \n",
       "2         43.0     3576.0           0.0  6715.0    49.0      Altark Susent   \n",
       "3          0.0     1283.0         371.0  3329.0   193.0       Solam Susent   \n",
       "4        303.0       70.0         151.0   565.0     2.0  Willy Santantines   \n",
       "\n",
       "   Transported  \n",
       "0        False  \n",
       "1         True  \n",
       "2        False  \n",
       "3        False  \n",
       "4         True  "
      ]
     },
     "execution_count": 66,
     "metadata": {},
     "output_type": "execute_result"
    }
   ],
   "source": [
    "train_data.head()"
   ]
  },
  {
   "cell_type": "code",
   "execution_count": 67,
   "metadata": {
    "execution": {
     "iopub.execute_input": "2022-08-14T14:09:15.481666Z",
     "iopub.status.busy": "2022-08-14T14:09:15.481246Z",
     "iopub.status.idle": "2022-08-14T14:09:15.506692Z",
     "shell.execute_reply": "2022-08-14T14:09:15.505514Z",
     "shell.execute_reply.started": "2022-08-14T14:09:15.481631Z"
    }
   },
   "outputs": [
    {
     "data": {
      "text/html": [
       "<div>\n",
       "<style scoped>\n",
       "    .dataframe tbody tr th:only-of-type {\n",
       "        vertical-align: middle;\n",
       "    }\n",
       "\n",
       "    .dataframe tbody tr th {\n",
       "        vertical-align: top;\n",
       "    }\n",
       "\n",
       "    .dataframe thead th {\n",
       "        text-align: right;\n",
       "    }\n",
       "</style>\n",
       "<table border=\"1\" class=\"dataframe\">\n",
       "  <thead>\n",
       "    <tr style=\"text-align: right;\">\n",
       "      <th></th>\n",
       "      <th>PassengerId</th>\n",
       "      <th>HomePlanet</th>\n",
       "      <th>CryoSleep</th>\n",
       "      <th>Cabin</th>\n",
       "      <th>Destination</th>\n",
       "      <th>Age</th>\n",
       "      <th>VIP</th>\n",
       "      <th>RoomService</th>\n",
       "      <th>FoodCourt</th>\n",
       "      <th>ShoppingMall</th>\n",
       "      <th>Spa</th>\n",
       "      <th>VRDeck</th>\n",
       "      <th>Name</th>\n",
       "    </tr>\n",
       "  </thead>\n",
       "  <tbody>\n",
       "    <tr>\n",
       "      <th>0</th>\n",
       "      <td>0013_01</td>\n",
       "      <td>Earth</td>\n",
       "      <td>True</td>\n",
       "      <td>G/3/S</td>\n",
       "      <td>TRAPPIST-1e</td>\n",
       "      <td>27.0</td>\n",
       "      <td>False</td>\n",
       "      <td>0.0</td>\n",
       "      <td>0.0</td>\n",
       "      <td>0.0</td>\n",
       "      <td>0.0</td>\n",
       "      <td>0.0</td>\n",
       "      <td>Nelly Carsoning</td>\n",
       "    </tr>\n",
       "    <tr>\n",
       "      <th>1</th>\n",
       "      <td>0018_01</td>\n",
       "      <td>Earth</td>\n",
       "      <td>False</td>\n",
       "      <td>F/4/S</td>\n",
       "      <td>TRAPPIST-1e</td>\n",
       "      <td>19.0</td>\n",
       "      <td>False</td>\n",
       "      <td>0.0</td>\n",
       "      <td>9.0</td>\n",
       "      <td>0.0</td>\n",
       "      <td>2823.0</td>\n",
       "      <td>0.0</td>\n",
       "      <td>Lerome Peckers</td>\n",
       "    </tr>\n",
       "    <tr>\n",
       "      <th>2</th>\n",
       "      <td>0019_01</td>\n",
       "      <td>Europa</td>\n",
       "      <td>True</td>\n",
       "      <td>C/0/S</td>\n",
       "      <td>55 Cancri e</td>\n",
       "      <td>31.0</td>\n",
       "      <td>False</td>\n",
       "      <td>0.0</td>\n",
       "      <td>0.0</td>\n",
       "      <td>0.0</td>\n",
       "      <td>0.0</td>\n",
       "      <td>0.0</td>\n",
       "      <td>Sabih Unhearfus</td>\n",
       "    </tr>\n",
       "    <tr>\n",
       "      <th>3</th>\n",
       "      <td>0021_01</td>\n",
       "      <td>Europa</td>\n",
       "      <td>False</td>\n",
       "      <td>C/1/S</td>\n",
       "      <td>TRAPPIST-1e</td>\n",
       "      <td>38.0</td>\n",
       "      <td>False</td>\n",
       "      <td>0.0</td>\n",
       "      <td>6652.0</td>\n",
       "      <td>0.0</td>\n",
       "      <td>181.0</td>\n",
       "      <td>585.0</td>\n",
       "      <td>Meratz Caltilter</td>\n",
       "    </tr>\n",
       "    <tr>\n",
       "      <th>4</th>\n",
       "      <td>0023_01</td>\n",
       "      <td>Earth</td>\n",
       "      <td>False</td>\n",
       "      <td>F/5/S</td>\n",
       "      <td>TRAPPIST-1e</td>\n",
       "      <td>20.0</td>\n",
       "      <td>False</td>\n",
       "      <td>10.0</td>\n",
       "      <td>0.0</td>\n",
       "      <td>635.0</td>\n",
       "      <td>0.0</td>\n",
       "      <td>0.0</td>\n",
       "      <td>Brence Harperez</td>\n",
       "    </tr>\n",
       "  </tbody>\n",
       "</table>\n",
       "</div>"
      ],
      "text/plain": [
       "  PassengerId HomePlanet CryoSleep  Cabin  Destination   Age    VIP  \\\n",
       "0     0013_01      Earth      True  G/3/S  TRAPPIST-1e  27.0  False   \n",
       "1     0018_01      Earth     False  F/4/S  TRAPPIST-1e  19.0  False   \n",
       "2     0019_01     Europa      True  C/0/S  55 Cancri e  31.0  False   \n",
       "3     0021_01     Europa     False  C/1/S  TRAPPIST-1e  38.0  False   \n",
       "4     0023_01      Earth     False  F/5/S  TRAPPIST-1e  20.0  False   \n",
       "\n",
       "   RoomService  FoodCourt  ShoppingMall     Spa  VRDeck              Name  \n",
       "0          0.0        0.0           0.0     0.0     0.0   Nelly Carsoning  \n",
       "1          0.0        9.0           0.0  2823.0     0.0    Lerome Peckers  \n",
       "2          0.0        0.0           0.0     0.0     0.0   Sabih Unhearfus  \n",
       "3          0.0     6652.0           0.0   181.0   585.0  Meratz Caltilter  \n",
       "4         10.0        0.0         635.0     0.0     0.0   Brence Harperez  "
      ]
     },
     "execution_count": 67,
     "metadata": {},
     "output_type": "execute_result"
    }
   ],
   "source": [
    "test_data.head()"
   ]
  },
  {
   "cell_type": "markdown",
   "metadata": {},
   "source": [
    "That's an interesting PassengerId .. maybe we can use it ..\n"
   ]
  },
  {
   "cell_type": "code",
   "execution_count": 68,
   "metadata": {
    "execution": {
     "iopub.execute_input": "2022-08-14T14:09:18.361169Z",
     "iopub.status.busy": "2022-08-14T14:09:18.360702Z",
     "iopub.status.idle": "2022-08-14T14:09:18.36681Z",
     "shell.execute_reply": "2022-08-14T14:09:18.365914Z",
     "shell.execute_reply.started": "2022-08-14T14:09:18.361127Z"
    }
   },
   "outputs": [
    {
     "name": "stdout",
     "output_type": "stream",
     "text": [
      "['PassengerId' 'HomePlanet' 'CryoSleep' 'Cabin' 'Destination' 'Age' 'VIP'\n",
      " 'RoomService' 'FoodCourt' 'ShoppingMall' 'Spa' 'VRDeck' 'Name'\n",
      " 'Transported']\n"
     ]
    }
   ],
   "source": [
    "print(train_data.columns.values)"
   ]
  },
  {
   "cell_type": "code",
   "execution_count": 69,
   "metadata": {
    "execution": {
     "iopub.execute_input": "2022-08-14T14:09:20.643717Z",
     "iopub.status.busy": "2022-08-14T14:09:20.643298Z",
     "iopub.status.idle": "2022-08-14T14:09:20.67174Z",
     "shell.execute_reply": "2022-08-14T14:09:20.670431Z",
     "shell.execute_reply.started": "2022-08-14T14:09:20.643684Z"
    }
   },
   "outputs": [
    {
     "name": "stdout",
     "output_type": "stream",
     "text": [
      "<class 'pandas.core.frame.DataFrame'>\n",
      "RangeIndex: 8693 entries, 0 to 8692\n",
      "Data columns (total 14 columns):\n",
      " #   Column        Non-Null Count  Dtype  \n",
      "---  ------        --------------  -----  \n",
      " 0   PassengerId   8693 non-null   object \n",
      " 1   HomePlanet    8492 non-null   object \n",
      " 2   CryoSleep     8476 non-null   object \n",
      " 3   Cabin         8494 non-null   object \n",
      " 4   Destination   8511 non-null   object \n",
      " 5   Age           8514 non-null   float64\n",
      " 6   VIP           8490 non-null   object \n",
      " 7   RoomService   8512 non-null   float64\n",
      " 8   FoodCourt     8510 non-null   float64\n",
      " 9   ShoppingMall  8485 non-null   float64\n",
      " 10  Spa           8510 non-null   float64\n",
      " 11  VRDeck        8505 non-null   float64\n",
      " 12  Name          8493 non-null   object \n",
      " 13  Transported   8693 non-null   bool   \n",
      "dtypes: bool(1), float64(6), object(7)\n",
      "memory usage: 891.5+ KB\n",
      "--------------------------------------------------\n",
      "<class 'pandas.core.frame.DataFrame'>\n",
      "RangeIndex: 4277 entries, 0 to 4276\n",
      "Data columns (total 13 columns):\n",
      " #   Column        Non-Null Count  Dtype  \n",
      "---  ------        --------------  -----  \n",
      " 0   PassengerId   4277 non-null   object \n",
      " 1   HomePlanet    4190 non-null   object \n",
      " 2   CryoSleep     4184 non-null   object \n",
      " 3   Cabin         4177 non-null   object \n",
      " 4   Destination   4185 non-null   object \n",
      " 5   Age           4186 non-null   float64\n",
      " 6   VIP           4184 non-null   object \n",
      " 7   RoomService   4195 non-null   float64\n",
      " 8   FoodCourt     4171 non-null   float64\n",
      " 9   ShoppingMall  4179 non-null   float64\n",
      " 10  Spa           4176 non-null   float64\n",
      " 11  VRDeck        4197 non-null   float64\n",
      " 12  Name          4183 non-null   object \n",
      "dtypes: float64(6), object(7)\n",
      "memory usage: 434.5+ KB\n"
     ]
    }
   ],
   "source": [
    "train_data.info()\n",
    "print(\"-\"*50)\n",
    "test_data.info()"
   ]
  },
  {
   "cell_type": "markdown",
   "metadata": {},
   "source": [
    "Transported feature is object, I will convert it to int for visualization step."
   ]
  },
  {
   "cell_type": "code",
   "execution_count": 70,
   "metadata": {
    "execution": {
     "iopub.execute_input": "2022-08-14T14:09:24.020968Z",
     "iopub.status.busy": "2022-08-14T14:09:24.020526Z",
     "iopub.status.idle": "2022-08-14T14:09:24.027034Z",
     "shell.execute_reply": "2022-08-14T14:09:24.026177Z",
     "shell.execute_reply.started": "2022-08-14T14:09:24.020927Z"
    }
   },
   "outputs": [],
   "source": [
    "train_data[\"Transported\"] = train_data[\"Transported\"].astype(\"int\")"
   ]
  },
  {
   "cell_type": "code",
   "execution_count": 71,
   "metadata": {
    "execution": {
     "iopub.execute_input": "2022-08-14T14:09:26.169842Z",
     "iopub.status.busy": "2022-08-14T14:09:26.168732Z",
     "iopub.status.idle": "2022-08-14T14:09:26.175972Z",
     "shell.execute_reply": "2022-08-14T14:09:26.174889Z",
     "shell.execute_reply.started": "2022-08-14T14:09:26.169792Z"
    }
   },
   "outputs": [
    {
     "name": "stdout",
     "output_type": "stream",
     "text": [
      "Train data shape =  (8693, 14)\n",
      "Test data shape =  (4277, 13)\n"
     ]
    }
   ],
   "source": [
    "print(\"Train data shape = \" , train_data.shape)\n",
    "print(\"Test data shape = \" , test_data.shape)"
   ]
  },
  {
   "cell_type": "markdown",
   "metadata": {},
   "source": []
  },
  {
   "cell_type": "code",
   "execution_count": 72,
   "metadata": {
    "execution": {
     "iopub.execute_input": "2022-08-14T14:09:28.81975Z",
     "iopub.status.busy": "2022-08-14T14:09:28.819319Z",
     "iopub.status.idle": "2022-08-14T14:09:28.839785Z",
     "shell.execute_reply": "2022-08-14T14:09:28.838288Z",
     "shell.execute_reply.started": "2022-08-14T14:09:28.819714Z"
    }
   },
   "outputs": [
    {
     "name": "stdout",
     "output_type": "stream",
     "text": [
      "Missed Data in train data:\n",
      "PassengerId       0\n",
      "HomePlanet      201\n",
      "CryoSleep       217\n",
      "Cabin           199\n",
      "Destination     182\n",
      "Age             179\n",
      "VIP             203\n",
      "RoomService     181\n",
      "FoodCourt       183\n",
      "ShoppingMall    208\n",
      "Spa             183\n",
      "VRDeck          188\n",
      "Name            200\n",
      "Transported       0\n",
      "dtype: int64\n",
      "--------------------------------------------------\n",
      "Missed Data in test data:\n"
     ]
    },
    {
     "data": {
      "text/plain": [
       "PassengerId       0\n",
       "HomePlanet       87\n",
       "CryoSleep        93\n",
       "Cabin           100\n",
       "Destination      92\n",
       "Age              91\n",
       "VIP              93\n",
       "RoomService      82\n",
       "FoodCourt       106\n",
       "ShoppingMall     98\n",
       "Spa             101\n",
       "VRDeck           80\n",
       "Name             94\n",
       "dtype: int64"
      ]
     },
     "execution_count": 72,
     "metadata": {},
     "output_type": "execute_result"
    }
   ],
   "source": [
    "print(\"Missed Data in train data:\")\n",
    "print(train_data.isnull().sum())\n",
    "print(\"-\" * 50)\n",
    "print(\"Missed Data in test data:\")\n",
    "test_data.isnull().sum()"
   ]
  },
  {
   "cell_type": "markdown",
   "metadata": {},
   "source": [
    "There are a lot of missed data .. we are going to process them in the data processing step."
   ]
  },
  {
   "cell_type": "code",
   "execution_count": 73,
   "metadata": {
    "execution": {
     "iopub.execute_input": "2022-08-14T14:09:32.375819Z",
     "iopub.status.busy": "2022-08-14T14:09:32.375432Z",
     "iopub.status.idle": "2022-08-14T14:09:32.412807Z",
     "shell.execute_reply": "2022-08-14T14:09:32.411932Z",
     "shell.execute_reply.started": "2022-08-14T14:09:32.375779Z"
    }
   },
   "outputs": [
    {
     "data": {
      "text/html": [
       "<div>\n",
       "<style scoped>\n",
       "    .dataframe tbody tr th:only-of-type {\n",
       "        vertical-align: middle;\n",
       "    }\n",
       "\n",
       "    .dataframe tbody tr th {\n",
       "        vertical-align: top;\n",
       "    }\n",
       "\n",
       "    .dataframe thead th {\n",
       "        text-align: right;\n",
       "    }\n",
       "</style>\n",
       "<table border=\"1\" class=\"dataframe\">\n",
       "  <thead>\n",
       "    <tr style=\"text-align: right;\">\n",
       "      <th></th>\n",
       "      <th>Age</th>\n",
       "      <th>RoomService</th>\n",
       "      <th>FoodCourt</th>\n",
       "      <th>ShoppingMall</th>\n",
       "      <th>Spa</th>\n",
       "      <th>VRDeck</th>\n",
       "      <th>Transported</th>\n",
       "    </tr>\n",
       "  </thead>\n",
       "  <tbody>\n",
       "    <tr>\n",
       "      <th>count</th>\n",
       "      <td>8514.000000</td>\n",
       "      <td>8512.000000</td>\n",
       "      <td>8510.000000</td>\n",
       "      <td>8485.000000</td>\n",
       "      <td>8510.000000</td>\n",
       "      <td>8505.000000</td>\n",
       "      <td>8693.000000</td>\n",
       "    </tr>\n",
       "    <tr>\n",
       "      <th>mean</th>\n",
       "      <td>28.827930</td>\n",
       "      <td>224.687617</td>\n",
       "      <td>458.077203</td>\n",
       "      <td>173.729169</td>\n",
       "      <td>311.138778</td>\n",
       "      <td>304.854791</td>\n",
       "      <td>0.503624</td>\n",
       "    </tr>\n",
       "    <tr>\n",
       "      <th>std</th>\n",
       "      <td>14.489021</td>\n",
       "      <td>666.717663</td>\n",
       "      <td>1611.489240</td>\n",
       "      <td>604.696458</td>\n",
       "      <td>1136.705535</td>\n",
       "      <td>1145.717189</td>\n",
       "      <td>0.500016</td>\n",
       "    </tr>\n",
       "    <tr>\n",
       "      <th>min</th>\n",
       "      <td>0.000000</td>\n",
       "      <td>0.000000</td>\n",
       "      <td>0.000000</td>\n",
       "      <td>0.000000</td>\n",
       "      <td>0.000000</td>\n",
       "      <td>0.000000</td>\n",
       "      <td>0.000000</td>\n",
       "    </tr>\n",
       "    <tr>\n",
       "      <th>25%</th>\n",
       "      <td>19.000000</td>\n",
       "      <td>0.000000</td>\n",
       "      <td>0.000000</td>\n",
       "      <td>0.000000</td>\n",
       "      <td>0.000000</td>\n",
       "      <td>0.000000</td>\n",
       "      <td>0.000000</td>\n",
       "    </tr>\n",
       "    <tr>\n",
       "      <th>50%</th>\n",
       "      <td>27.000000</td>\n",
       "      <td>0.000000</td>\n",
       "      <td>0.000000</td>\n",
       "      <td>0.000000</td>\n",
       "      <td>0.000000</td>\n",
       "      <td>0.000000</td>\n",
       "      <td>1.000000</td>\n",
       "    </tr>\n",
       "    <tr>\n",
       "      <th>75%</th>\n",
       "      <td>38.000000</td>\n",
       "      <td>47.000000</td>\n",
       "      <td>76.000000</td>\n",
       "      <td>27.000000</td>\n",
       "      <td>59.000000</td>\n",
       "      <td>46.000000</td>\n",
       "      <td>1.000000</td>\n",
       "    </tr>\n",
       "    <tr>\n",
       "      <th>max</th>\n",
       "      <td>79.000000</td>\n",
       "      <td>14327.000000</td>\n",
       "      <td>29813.000000</td>\n",
       "      <td>23492.000000</td>\n",
       "      <td>22408.000000</td>\n",
       "      <td>24133.000000</td>\n",
       "      <td>1.000000</td>\n",
       "    </tr>\n",
       "  </tbody>\n",
       "</table>\n",
       "</div>"
      ],
      "text/plain": [
       "               Age   RoomService     FoodCourt  ShoppingMall           Spa  \\\n",
       "count  8514.000000   8512.000000   8510.000000   8485.000000   8510.000000   \n",
       "mean     28.827930    224.687617    458.077203    173.729169    311.138778   \n",
       "std      14.489021    666.717663   1611.489240    604.696458   1136.705535   \n",
       "min       0.000000      0.000000      0.000000      0.000000      0.000000   \n",
       "25%      19.000000      0.000000      0.000000      0.000000      0.000000   \n",
       "50%      27.000000      0.000000      0.000000      0.000000      0.000000   \n",
       "75%      38.000000     47.000000     76.000000     27.000000     59.000000   \n",
       "max      79.000000  14327.000000  29813.000000  23492.000000  22408.000000   \n",
       "\n",
       "             VRDeck  Transported  \n",
       "count   8505.000000  8693.000000  \n",
       "mean     304.854791     0.503624  \n",
       "std     1145.717189     0.500016  \n",
       "min        0.000000     0.000000  \n",
       "25%        0.000000     0.000000  \n",
       "50%        0.000000     1.000000  \n",
       "75%       46.000000     1.000000  \n",
       "max    24133.000000     1.000000  "
      ]
     },
     "execution_count": 73,
     "metadata": {},
     "output_type": "execute_result"
    }
   ],
   "source": [
    "train_data.describe()"
   ]
  },
  {
   "cell_type": "markdown",
   "metadata": {},
   "source": []
  },
  {
   "cell_type": "code",
   "execution_count": 74,
   "metadata": {
    "execution": {
     "iopub.execute_input": "2022-08-14T14:09:35.677202Z",
     "iopub.status.busy": "2022-08-14T14:09:35.676804Z",
     "iopub.status.idle": "2022-08-14T14:09:35.723228Z",
     "shell.execute_reply": "2022-08-14T14:09:35.722087Z",
     "shell.execute_reply.started": "2022-08-14T14:09:35.67717Z"
    }
   },
   "outputs": [
    {
     "data": {
      "text/html": [
       "<div>\n",
       "<style scoped>\n",
       "    .dataframe tbody tr th:only-of-type {\n",
       "        vertical-align: middle;\n",
       "    }\n",
       "\n",
       "    .dataframe tbody tr th {\n",
       "        vertical-align: top;\n",
       "    }\n",
       "\n",
       "    .dataframe thead th {\n",
       "        text-align: right;\n",
       "    }\n",
       "</style>\n",
       "<table border=\"1\" class=\"dataframe\">\n",
       "  <thead>\n",
       "    <tr style=\"text-align: right;\">\n",
       "      <th></th>\n",
       "      <th>PassengerId</th>\n",
       "      <th>HomePlanet</th>\n",
       "      <th>CryoSleep</th>\n",
       "      <th>Cabin</th>\n",
       "      <th>Destination</th>\n",
       "      <th>VIP</th>\n",
       "      <th>Name</th>\n",
       "    </tr>\n",
       "  </thead>\n",
       "  <tbody>\n",
       "    <tr>\n",
       "      <th>count</th>\n",
       "      <td>8693</td>\n",
       "      <td>8492</td>\n",
       "      <td>8476</td>\n",
       "      <td>8494</td>\n",
       "      <td>8511</td>\n",
       "      <td>8490</td>\n",
       "      <td>8493</td>\n",
       "    </tr>\n",
       "    <tr>\n",
       "      <th>unique</th>\n",
       "      <td>8693</td>\n",
       "      <td>3</td>\n",
       "      <td>2</td>\n",
       "      <td>6560</td>\n",
       "      <td>3</td>\n",
       "      <td>2</td>\n",
       "      <td>8473</td>\n",
       "    </tr>\n",
       "    <tr>\n",
       "      <th>top</th>\n",
       "      <td>0001_01</td>\n",
       "      <td>Earth</td>\n",
       "      <td>False</td>\n",
       "      <td>G/734/S</td>\n",
       "      <td>TRAPPIST-1e</td>\n",
       "      <td>False</td>\n",
       "      <td>Gollux Reedall</td>\n",
       "    </tr>\n",
       "    <tr>\n",
       "      <th>freq</th>\n",
       "      <td>1</td>\n",
       "      <td>4602</td>\n",
       "      <td>5439</td>\n",
       "      <td>8</td>\n",
       "      <td>5915</td>\n",
       "      <td>8291</td>\n",
       "      <td>2</td>\n",
       "    </tr>\n",
       "  </tbody>\n",
       "</table>\n",
       "</div>"
      ],
      "text/plain": [
       "       PassengerId HomePlanet CryoSleep    Cabin  Destination    VIP  \\\n",
       "count         8693       8492      8476     8494         8511   8490   \n",
       "unique        8693          3         2     6560            3      2   \n",
       "top        0001_01      Earth     False  G/734/S  TRAPPIST-1e  False   \n",
       "freq             1       4602      5439        8         5915   8291   \n",
       "\n",
       "                  Name  \n",
       "count             8493  \n",
       "unique            8473  \n",
       "top     Gollux Reedall  \n",
       "freq                 2  "
      ]
     },
     "execution_count": 74,
     "metadata": {},
     "output_type": "execute_result"
    }
   ],
   "source": [
    "train_data.describe(include = [\"O\"])"
   ]
  },
  {
   "cell_type": "markdown",
   "metadata": {},
   "source": []
  },
  {
   "cell_type": "code",
   "execution_count": 75,
   "metadata": {
    "execution": {
     "iopub.execute_input": "2022-08-14T14:09:38.965107Z",
     "iopub.status.busy": "2022-08-14T14:09:38.964634Z",
     "iopub.status.idle": "2022-08-14T14:09:38.970961Z",
     "shell.execute_reply": "2022-08-14T14:09:38.969621Z",
     "shell.execute_reply.started": "2022-08-14T14:09:38.965066Z"
    }
   },
   "outputs": [],
   "source": [
    "# saving the test ids:\n",
    "Test_Id = test_data.PassengerId"
   ]
  },
  {
   "cell_type": "markdown",
   "metadata": {},
   "source": []
  },
  {
   "cell_type": "code",
   "execution_count": 76,
   "metadata": {
    "execution": {
     "iopub.execute_input": "2022-08-14T14:09:43.79004Z",
     "iopub.status.busy": "2022-08-14T14:09:43.789655Z",
     "iopub.status.idle": "2022-08-14T14:09:44.057973Z",
     "shell.execute_reply": "2022-08-14T14:09:44.056741Z",
     "shell.execute_reply.started": "2022-08-14T14:09:43.790007Z"
    }
   },
   "outputs": [
    {
     "name": "stdout",
     "output_type": "stream",
     "text": [
      "Available decks are (9 decks): ['B' 'F' 'A' 'G' nan 'E' 'D' 'C' 'T']\n",
      "Available nums are (1817 nums): [   0    1    2 ... 1892 1893 1894]\n",
      "Available sides are (3 sides): ['P' 'S' nan]\n"
     ]
    }
   ],
   "source": [
    "combine = [train_data , test_data]\n",
    "\n",
    "\n",
    "for dataset in combine:\n",
    "    \n",
    "    # =======================================================================\n",
    "    # Extract Passenger Group:\n",
    "    # =======================================================================\n",
    "\n",
    "    dataset[\"PassengerGroup\"] = dataset[\"PassengerId\"].str.split('_' , expand = True)[1].astype(int).astype(str)\n",
    "    dataset.drop(columns = [\"PassengerId\"] , inplace = True)\n",
    "    # =======================================================================\n",
    "    # Extract Cabin num, deck, side:\n",
    "    # =======================================================================\n",
    "\n",
    "    dataset[\"deck\"] = (dataset.Cabin.str.split('/' , expand = True))[0]\n",
    "    dataset[\"num\"] = np.nan_to_num(dataset.Cabin.str.split('/', expand = True)[1].astype(float)).astype(int)\n",
    "    dataset[\"side\"] = dataset.Cabin.str.split('/', expand = True)[2]\n",
    "    dataset.drop(columns = [\"Cabin\"] , inplace = True)\n",
    "    \n",
    "print(f\"Available decks are ({train_data.deck.unique().shape[0]} decks): {train_data.deck.unique()}\")\n",
    "print(f\"Available nums are ({train_data.num.unique().shape[0]} nums): {train_data.num.unique()}\")\n",
    "print(f\"Available sides are ({train_data.side.unique().shape[0]} sides): {train_data.side.unique()}\")"
   ]
  },
  {
   "cell_type": "markdown",
   "metadata": {},
   "source": []
  },
  {
   "cell_type": "markdown",
   "metadata": {},
   "source": [
    "# EDA\n",
    "\n",
    "\n",
    "\n"
   ]
  },
  {
   "cell_type": "code",
   "execution_count": 77,
   "metadata": {
    "execution": {
     "iopub.execute_input": "2022-08-14T14:09:49.849495Z",
     "iopub.status.busy": "2022-08-14T14:09:49.84904Z",
     "iopub.status.idle": "2022-08-14T14:09:49.86196Z",
     "shell.execute_reply": "2022-08-14T14:09:49.860638Z",
     "shell.execute_reply.started": "2022-08-14T14:09:49.849458Z"
    }
   },
   "outputs": [],
   "source": [
    "# Helper functions:\n",
    "# ====================================================================\n",
    "def survived_bar_plot(feature , ax = None , font_scale = 0.8):\n",
    "    sns.set(font_scale=font_scale)  \n",
    "    data = train_data[[feature, \"Transported\"]].groupby([feature], as_index=False).mean().sort_values(by='Transported', ascending=False)\n",
    "    plot = sns.barplot(data = data , x = feature , y = \"Transported\" ,ci=None , ax = ax )\n",
    "    plot.set_title(f\"{feature} Vs Transported\")\n",
    "    plot.set(xlabel=None)\n",
    "    plot.set(ylabel=None)\n",
    "    sns.set(font_scale=font_scale)  \n",
    "    plot.bar_label(plot.containers[0],fmt='%.2f')\n",
    "# ====================================================================\n",
    "\n",
    "def survived_table(feature):\n",
    "    return train_data[[feature, \"Transported\"]].groupby([feature], as_index=False).mean().sort_values(by='Transported', ascending=False).style.background_gradient(low=0.75,high=1)\n",
    "def survived_hist_plot(feature , bin_width = 5):\n",
    "    plt.figure(figsize = (6,4))\n",
    "    sns.histplot(data = train_data , x = feature , hue = \"Transported\",binwidth=bin_width,palette = sns.color_palette([\"yellow\" , \"green\"]) ,multiple = \"stack\" ).set_title(f\"{feature} Vs Transported\")\n",
    "    plt.show()"
   ]
  },
  {
   "cell_type": "markdown",
   "metadata": {},
   "source": [
    "\n"
   ]
  },
  {
   "cell_type": "code",
   "execution_count": 78,
   "metadata": {
    "execution": {
     "iopub.execute_input": "2022-08-14T14:09:51.350012Z",
     "iopub.status.busy": "2022-08-14T14:09:51.349574Z",
     "iopub.status.idle": "2022-08-14T14:09:51.607722Z",
     "shell.execute_reply": "2022-08-14T14:09:51.604942Z",
     "shell.execute_reply.started": "2022-08-14T14:09:51.349976Z"
    }
   },
   "outputs": [
    {
     "data": {
      "image/png": "[encoded data removed]",
      "text/plain": [
       "<Figure size 576x288 with 2 Axes>"
      ]
     },
     "metadata": {},
     "output_type": "display_data"
    }
   ],
   "source": [
    "# ===================================================================\n",
    "# Count of Transported Passengers:\n",
    "# ===================================================================\n",
    "f,ax=plt.subplots(1,2,figsize=(8,4))\n",
    "train_data['Transported'].replace({0:\"Not Transported\",1:\"Transported\"}).value_counts().plot.pie(explode=[0,0.1],autopct='%1.1f%%',ax=ax[0],shadow=True)\n",
    "ax[0].set_ylabel('')\n",
    "sns.countplot(x = train_data[\"Transported\"].replace({0:\"Not Transported\",1:\"Transported\"}) , ax = ax[1])\n",
    "ax[1].set_ylabel('')\n",
    "ax[1].set_xlabel('')\n",
    "plt.show()"
   ]
  },
  {
   "cell_type": "markdown",
   "metadata": {},
   "source": [
    "There are approximately equal number of transported and non-transported passengers."
   ]
  },
  {
   "cell_type": "markdown",
   "metadata": {},
   "source": [
    "<a class = \"anchor\" id = \"cat_with_tar\">\n",
    "</a>\n",
    "<div style=\"color:black;\n",
    "           border-radius:0px;\n",
    "           background-color:#00ADB5;\n",
    "           font-size:14px;\n",
    "           font-family:sans-serif;\n",
    "           letter-spacing:0.5px\">\n",
    "        <p style=\"padding: 6px;\n",
    "              color:white;\">\n",
    "            <b>Categorical features with target:</b>\n",
    "        </p>\n",
    "</div>\n"
   ]
  },
  {
   "cell_type": "code",
   "execution_count": 79,
   "metadata": {
    "execution": {
     "iopub.execute_input": "2022-08-14T14:09:55.096238Z",
     "iopub.status.busy": "2022-08-14T14:09:55.095811Z",
     "iopub.status.idle": "2022-08-14T14:09:56.36091Z",
     "shell.execute_reply": "2022-08-14T14:09:56.35963Z",
     "shell.execute_reply.started": "2022-08-14T14:09:55.096203Z"
    }
   },
   "outputs": [
    {
     "data": {
      "image/png": "[encoded data removed]",
      "text/plain": [
       "<Figure size 1296x1080 with 9 Axes>"
      ]
     },
     "metadata": {},
     "output_type": "display_data"
    }
   ],
   "source": [
    "fig , ax = plt.subplots(3,3 , figsize=(18 , 15))\n",
    "survived_bar_plot(\"HomePlanet\" , ax[0][0])\n",
    "survived_bar_plot('CryoSleep' , ax[0][1])\n",
    "survived_bar_plot('Destination' , ax[0][2])\n",
    "survived_bar_plot('VIP'  , ax[1][0])\n",
    "survived_bar_plot('PassengerGroup' , ax[1][1] , font_scale=0.7)\n",
    "survived_bar_plot('deck' , ax[1][2],font_scale=0.7)\n",
    "survived_bar_plot('side' , ax[2][0])\n"
   ]
  },
  {
   "cell_type": "markdown",
   "metadata": {},
   "source": [
    "\n"
   ]
  },
  {
   "cell_type": "markdown",
   "metadata": {},
   "source": [
    "<a class = \"anchor\" id = \"num_with_tar\">\n",
    "    <div style=\"color:black;\n",
    "               border-radius:0px;\n",
    "               background-color:#00ADB5;\n",
    "               font-size:14px;\n",
    "               font-family:sans-serif;\n",
    "               letter-spacing:0.5px\">\n",
    "            <p style=\"padding: 6px;\n",
    "                  color:white;\">\n",
    "                <b>Numerical features with target:</b>\n",
    "            </p>\n",
    "    </div>                          \n",
    "</a>\n",
    "\n"
   ]
  },
  {
   "cell_type": "markdown",
   "metadata": {},
   "source": [
    "**1 ) Age:**"
   ]
  },
  {
   "cell_type": "markdown",
   "metadata": {},
   "source": [
    "**Note:** This plot is a stack plot."
   ]
  },
  {
   "cell_type": "code",
   "execution_count": 80,
   "metadata": {
    "execution": {
     "iopub.execute_input": "2022-08-14T14:10:05.212256Z",
     "iopub.status.busy": "2022-08-14T14:10:05.211818Z",
     "iopub.status.idle": "2022-08-14T14:10:05.594115Z",
     "shell.execute_reply": "2022-08-14T14:10:05.592917Z",
     "shell.execute_reply.started": "2022-08-14T14:10:05.21222Z"
    }
   },
   "outputs": [
    {
     "data": {
      "image/png": "[encoded data removed]",
      "text/plain": [
       "<Figure size 432x288 with 1 Axes>"
      ]
     },
     "metadata": {},
     "output_type": "display_data"
    }
   ],
   "source": [
    "sns.set_style(\"dark\") # to remove the grid.\n",
    "survived_hist_plot(\"Age\") "
   ]
  },
  {
   "cell_type": "markdown",
   "metadata": {},
   "source": [
    "children below 10 years old age are most common to be Transported. I am going to make is_child in Data Engineering step."
   ]
  },
  {
   "cell_type": "markdown",
   "metadata": {},
   "source": [
    "**2 ) RoomService, FoodCourt, ShoppingMall, Spa, VrDeck:**"
   ]
  },
  {
   "cell_type": "code",
   "execution_count": 81,
   "metadata": {
    "execution": {
     "iopub.execute_input": "2022-08-14T14:10:11.251861Z",
     "iopub.status.busy": "2022-08-14T14:10:11.250252Z",
     "iopub.status.idle": "2022-08-14T14:10:12.108763Z",
     "shell.execute_reply": "2022-08-14T14:10:12.107598Z",
     "shell.execute_reply.started": "2022-08-14T14:10:11.251795Z"
    }
   },
   "outputs": [
    {
     "data": {
      "image/png": "[encoded data removed]",
      "text/plain": [
       "<Figure size 1296x576 with 6 Axes>"
      ]
     },
     "metadata": {},
     "output_type": "display_data"
    }
   ],
   "source": [
    "plot , ax = plt.subplots(2 , 3, figsize = (18,8))\n",
    "sns.boxplot(data = train_data , x = \"Transported\" , y = \"RoomService\" , ax = ax[0][0]).set_title(\"RoomService\")\n",
    "sns.boxplot(data = train_data , x = \"Transported\" , y = \"FoodCourt\" , ax = ax[0][1]).set_title(\"FoodCourt\")\n",
    "sns.boxplot(data = train_data , x = \"Transported\" , y = \"ShoppingMall\" , ax = ax[0][2]).set_title(\"ShoppingMall\")\n",
    "sns.boxplot(data = train_data , x = \"Transported\" , y = \"Spa\" , ax = ax[1][0]).set_title(\"Spa\")\n",
    "sns.boxplot(data = train_data , x = \"Transported\" , y = \"VRDeck\" , ax = ax[1][1]).set_title(\"VRDeck\")\n",
    "plt.subplots_adjust(wspace=0.4,hspace=0.4)"
   ]
  },
  {
   "cell_type": "markdown",
   "metadata": {},
   "source": [
    "As we saw above, The most values of these features is 0. and There are many outliers."
   ]
  },
  {
   "cell_type": "markdown",
   "metadata": {},
   "source": [
    "<a class = \"anchor\" id = \"num_features\">\n",
    "\n",
    "<div style=\"color:black;\n",
    "           border-radius:0px;\n",
    "           background-color:#00ADB5;\n",
    "           font-size:14px;\n",
    "           font-family:sans-serif;\n",
    "           letter-spacing:0.5px\">\n",
    "        <p style=\"padding: 6px;\n",
    "              color:white;\">\n",
    "            <b>Correlation between numerical features:</b>\n",
    "        </p>\n",
    "</div>\n",
    "</a>\n",
    "\n",
    "\n"
   ]
  },
  {
   "cell_type": "code",
   "execution_count": 82,
   "metadata": {
    "execution": {
     "iopub.execute_input": "2022-08-14T14:10:17.794113Z",
     "iopub.status.busy": "2022-08-14T14:10:17.793669Z",
     "iopub.status.idle": "2022-08-14T14:10:18.538764Z",
     "shell.execute_reply": "2022-08-14T14:10:18.537614Z",
     "shell.execute_reply.started": "2022-08-14T14:10:17.79407Z"
    }
   },
   "outputs": [
    {
     "data": {
      "text/plain": [
       "<AxesSubplot:>"
      ]
     },
     "execution_count": 82,
     "metadata": {},
     "output_type": "execute_result"
    },
    {
     "data": {
      "image/png": "[encoded data removed]",
      "text/plain": [
       "<Figure size 576x576 with 2 Axes>"
      ]
     },
     "metadata": {},
     "output_type": "display_data"
    }
   ],
   "source": [
    "sns.set(font_scale=0.8)\n",
    "plt.figure(figsize = (8,8))\n",
    "sns.heatmap(train_data.corr(),annot=True,fmt='.2f',cmap=\"Blues\")"
   ]
  },
  {
   "cell_type": "markdown",
   "metadata": {},
   "source": [
    "insights:\n",
    "- luxury features haves some positive correlation with each other.\n",
    "- There are negtive correlation between luxury features and target feature."
   ]
  },
  {
   "cell_type": "markdown",
   "metadata": {},
   "source": [
    "<a class = \"anchor\" id = \"cat_and_num\"><div style=\"color:black;\n",
    "           border-radius:0px;\n",
    "           background-color:#00ADB5;\n",
    "           font-size:14px;\n",
    "           font-family:sans-serif;\n",
    "           letter-spacing:0.5px\">\n",
    "        <p style=\"padding: 6px;\n",
    "              color:white;\">\n",
    "            <b>Correlation between numerical and categorical features:</b>\n",
    "        </p>\n",
    "</div></a>\n",
    "\n"
   ]
  },
  {
   "cell_type": "markdown",
   "metadata": {},
   "source": [
    "**1 ) Age:**"
   ]
  },
  {
   "cell_type": "code",
   "execution_count": 83,
   "metadata": {
    "execution": {
     "iopub.execute_input": "2022-08-14T14:10:24.799432Z",
     "iopub.status.busy": "2022-08-14T14:10:24.798961Z",
     "iopub.status.idle": "2022-08-14T14:10:25.78442Z",
     "shell.execute_reply": "2022-08-14T14:10:25.78323Z",
     "shell.execute_reply.started": "2022-08-14T14:10:24.799394Z"
    }
   },
   "outputs": [
    {
     "data": {
      "text/plain": [
       "<AxesSubplot:xlabel='VIP', ylabel='Age'>"
      ]
     },
     "execution_count": 83,
     "metadata": {},
     "output_type": "execute_result"
    },
    {
     "data": {
      "image/png": "[encoded data removed]",
      "text/plain": [
       "<Figure size 1152x432 with 6 Axes>"
      ]
     },
     "metadata": {},
     "output_type": "display_data"
    }
   ],
   "source": [
    "plot , ax  = plt.subplots(2,3 , figsize = (16,6))\n",
    "sns.boxplot(data = train_data , y = \"Age\" , x = \"HomePlanet\"  , ax = ax[0][0])\n",
    "sns.boxplot(data = train_data , y = \"Age\" , x = \"Destination\"  , ax = ax[0][1])\n",
    "sns.boxplot(data = train_data , y = \"Age\" , x = \"CryoSleep\"  , ax = ax[0][2])\n",
    "sns.boxplot(data = train_data , y = \"Age\" , x = \"VIP\"  , ax = ax[1][0])\n",
    "sns.boxplot(data = train_data , y = \"Age\" , x = \"PassengerGroup\"  , ax = ax[1][1])\n",
    "sns.boxplot(data = train_data , y = \"Age\" , x = \"VIP\"  , ax = ax[1][0])"
   ]
  },
  {
   "cell_type": "markdown",
   "metadata": {},
   "source": [
    "from the plots above we can see that PassengerGroup is good to use for filling Age missed data."
   ]
  },
  {
   "cell_type": "markdown",
   "metadata": {},
   "source": [
    "<a href=\"#toc\" role=\"button\" aria-pressed=\"true\" >Back to Table of Contents  ⬆️</a>"
   ]
  },
  {
   "cell_type": "markdown",
   "metadata": {},
   "source": [
    "<a class = \"anchor\" id = \"dp\">\n",
    "    \n",
    "<div style=\"color:#00ADB5;\n",
    "           display:fill;\n",
    "           border-radius:5px;\n",
    "           background-color:#393E46;\n",
    "           font-size:20px;\n",
    "           font-family:sans-serif;\n",
    "           letter-spacing:0.5px\">\n",
    "        <p style=\"padding: 10px;\n",
    "              color:white;\">\n",
    "            <b> 4 ) Data Processing:</b>\n",
    "        </p>\n",
    "</div>\n",
    "</a>\n",
    "\n",
    "\n"
   ]
  },
  {
   "cell_type": "code",
   "execution_count": 84,
   "metadata": {
    "execution": {
     "iopub.execute_input": "2022-08-14T14:10:32.990641Z",
     "iopub.status.busy": "2022-08-14T14:10:32.990228Z",
     "iopub.status.idle": "2022-08-14T14:10:33.014432Z",
     "shell.execute_reply": "2022-08-14T14:10:33.013195Z",
     "shell.execute_reply.started": "2022-08-14T14:10:32.990607Z"
    }
   },
   "outputs": [],
   "source": [
    "transported = train_data[\"Transported\"]\n",
    "all_data = pd.concat([train_data , test_data]).reset_index(drop = True)\n",
    "all_data.drop(columns = [\"Transported\"] , inplace = True)"
   ]
  },
  {
   "cell_type": "markdown",
   "metadata": {},
   "source": [
    "<a class = \"anchor\" id = \"fmv\"><div style=\"color:black;\n",
    "           border-radius:0px;\n",
    "           background-color:#00ADB5;\n",
    "           font-size:14px;\n",
    "           font-family:sans-serif;\n",
    "           letter-spacing:0.5px\">\n",
    "        <p style=\"padding: 6px;\n",
    "              color:white;\">\n",
    "            <b>Filling Missed Values:</b>\n",
    "        </p>\n",
    "</div></a>\n",
    "\n"
   ]
  },
  {
   "cell_type": "code",
   "execution_count": 85,
   "metadata": {
    "execution": {
     "iopub.execute_input": "2022-08-14T14:10:38.163839Z",
     "iopub.status.busy": "2022-08-14T14:10:38.163449Z",
     "iopub.status.idle": "2022-08-14T14:10:38.179391Z",
     "shell.execute_reply": "2022-08-14T14:10:38.178299Z",
     "shell.execute_reply.started": "2022-08-14T14:10:38.163808Z"
    }
   },
   "outputs": [
    {
     "data": {
      "text/plain": [
       "HomePlanet        288\n",
       "CryoSleep         310\n",
       "Destination       274\n",
       "Age               270\n",
       "VIP               296\n",
       "RoomService       263\n",
       "FoodCourt         289\n",
       "ShoppingMall      306\n",
       "Spa               284\n",
       "VRDeck            268\n",
       "Name              294\n",
       "PassengerGroup      0\n",
       "deck              299\n",
       "num                 0\n",
       "side              299\n",
       "dtype: int64"
      ]
     },
     "execution_count": 85,
     "metadata": {},
     "output_type": "execute_result"
    }
   ],
   "source": [
    "all_data.isnull().sum()"
   ]
  },
  {
   "cell_type": "code",
   "execution_count": 86,
   "metadata": {
    "execution": {
     "iopub.execute_input": "2022-08-14T14:10:48.363338Z",
     "iopub.status.busy": "2022-08-14T14:10:48.362826Z",
     "iopub.status.idle": "2022-08-14T14:10:48.385524Z",
     "shell.execute_reply": "2022-08-14T14:10:48.384471Z",
     "shell.execute_reply.started": "2022-08-14T14:10:48.363253Z"
    }
   },
   "outputs": [],
   "source": [
    "# Filling HomePlanet, CryoSleep, Destination, VIP:\n",
    "all_data[\"HomePlanet\"] = all_data[\"HomePlanet\"].fillna(all_data[\"HomePlanet\"].mode()[0]) \n",
    "all_data[\"CryoSleep\"] = all_data[\"CryoSleep\"].fillna(all_data[\"CryoSleep\"].mode()[0]) \n",
    "all_data[\"Destination\"] = all_data[\"Destination\"].fillna(all_data[\"Destination\"].mode()[0]) \n",
    "all_data[\"VIP\"] = all_data[\"VIP\"].fillna(all_data[\"VIP\"].mode()[0]) "
   ]
  },
  {
   "cell_type": "code",
   "execution_count": 87,
   "metadata": {
    "execution": {
     "iopub.execute_input": "2022-08-14T14:10:50.922529Z",
     "iopub.status.busy": "2022-08-14T14:10:50.921439Z",
     "iopub.status.idle": "2022-08-14T14:10:51.652081Z",
     "shell.execute_reply": "2022-08-14T14:10:51.650745Z",
     "shell.execute_reply.started": "2022-08-14T14:10:50.922488Z"
    }
   },
   "outputs": [],
   "source": [
    "# Filling Age Feature by PassengerGroup:\n",
    "PassengerGroups = [\"1\" , \"2\" , \"3\" , \"4\" , \"5\" , \"6\" , \"7\" , \"8\"]\n",
    "median_ages = {}\n",
    "for passengerGroup in PassengerGroups :\n",
    "    median_ages[passengerGroup] = all_data.loc[all_data[\"PassengerGroup\"] == passengerGroup , [\"Age\"]].median()\n",
    "\n",
    "for index , passenger in all_data.iterrows():\n",
    "    if pd.isna(passenger[\"Age\"]):\n",
    "        all_data.at[index , \"Age\"] = median_ages[passenger[\"PassengerGroup\"]]"
   ]
  },
  {
   "cell_type": "code",
   "execution_count": 88,
   "metadata": {
    "execution": {
     "iopub.execute_input": "2022-08-14T14:10:54.346462Z",
     "iopub.status.busy": "2022-08-14T14:10:54.345918Z",
     "iopub.status.idle": "2022-08-14T14:10:54.363657Z",
     "shell.execute_reply": "2022-08-14T14:10:54.362554Z",
     "shell.execute_reply.started": "2022-08-14T14:10:54.346411Z"
    }
   },
   "outputs": [],
   "source": [
    "# Filling RoomService, FoodCourt, ShoppingMall, Spa, VRDeck:\n",
    "all_data[\"RoomService\"] = all_data[\"RoomService\"].fillna(all_data[\"RoomService\"].mode()[0]) \n",
    "all_data[\"FoodCourt\"] = all_data[\"FoodCourt\"].fillna(all_data[\"FoodCourt\"].mode()[0]) \n",
    "all_data[\"ShoppingMall\"] = all_data[\"ShoppingMall\"].fillna(all_data[\"ShoppingMall\"].mode()[0]) \n",
    "all_data[\"Spa\"] = all_data[\"Spa\"].fillna(all_data[\"Spa\"].mode()[0]) \n",
    "all_data[\"VRDeck\"] = all_data[\"VRDeck\"].fillna(all_data[\"VRDeck\"].mode()[0]) "
   ]
  },
  {
   "cell_type": "code",
   "execution_count": 89,
   "metadata": {
    "execution": {
     "iopub.execute_input": "2022-08-14T14:10:57.500873Z",
     "iopub.status.busy": "2022-08-14T14:10:57.500356Z",
     "iopub.status.idle": "2022-08-14T14:10:57.517275Z",
     "shell.execute_reply": "2022-08-14T14:10:57.51625Z",
     "shell.execute_reply.started": "2022-08-14T14:10:57.500833Z"
    }
   },
   "outputs": [],
   "source": [
    "# Filling Cabin information:\n",
    "all_data.deck = all_data.deck.fillna(all_data.deck.mode()[0])\n",
    "all_data.num = all_data.num.fillna(all_data.num.mode()[0])\n",
    "all_data.side = all_data.side.fillna(all_data.side.mode()[0])"
   ]
  },
  {
   "cell_type": "code",
   "execution_count": 90,
   "metadata": {
    "execution": {
     "iopub.execute_input": "2022-08-14T14:11:00.339842Z",
     "iopub.status.busy": "2022-08-14T14:11:00.339422Z",
     "iopub.status.idle": "2022-08-14T14:11:00.346899Z",
     "shell.execute_reply": "2022-08-14T14:11:00.345793Z",
     "shell.execute_reply.started": "2022-08-14T14:11:00.339809Z"
    }
   },
   "outputs": [],
   "source": [
    "# Filling Name feature:\n",
    "all_data.Name = all_data.Name.fillna(\"None\")"
   ]
  },
  {
   "cell_type": "code",
   "execution_count": 91,
   "metadata": {
    "execution": {
     "iopub.execute_input": "2022-08-14T14:11:03.06007Z",
     "iopub.status.busy": "2022-08-14T14:11:03.059635Z",
     "iopub.status.idle": "2022-08-14T14:11:03.075107Z",
     "shell.execute_reply": "2022-08-14T14:11:03.073539Z",
     "shell.execute_reply.started": "2022-08-14T14:11:03.060032Z"
    }
   },
   "outputs": [
    {
     "data": {
      "text/plain": [
       "HomePlanet        0\n",
       "CryoSleep         0\n",
       "Destination       0\n",
       "Age               0\n",
       "VIP               0\n",
       "RoomService       0\n",
       "FoodCourt         0\n",
       "ShoppingMall      0\n",
       "Spa               0\n",
       "VRDeck            0\n",
       "Name              0\n",
       "PassengerGroup    0\n",
       "deck              0\n",
       "num               0\n",
       "side              0\n",
       "dtype: int64"
      ]
     },
     "execution_count": 91,
     "metadata": {},
     "output_type": "execute_result"
    }
   ],
   "source": [
    "all_data.isnull().sum()"
   ]
  },
  {
   "cell_type": "markdown",
   "metadata": {},
   "source": [
    "No More Missed Data !!"
   ]
  },
  {
   "cell_type": "markdown",
   "metadata": {},
   "source": [
    "<a class = \"anchor\" id = \"de\"><div style=\"color:black;\n",
    "           border-radius:0px;\n",
    "           background-color:#00ADB5;\n",
    "           font-size:14px;\n",
    "           font-family:sans-serif;\n",
    "           letter-spacing:0.5px\">\n",
    "        <p style=\"padding: 6px;\n",
    "              color:white;\">\n",
    "            <b>Data Engineering:</b>\n",
    "        </p>\n",
    "</div>\n",
    "    </a>\n"
   ]
  },
  {
   "cell_type": "markdown",
   "metadata": {},
   "source": [
    "**1 ) Family Size:**"
   ]
  },
  {
   "cell_type": "code",
   "execution_count": 92,
   "metadata": {
    "execution": {
     "iopub.execute_input": "2022-08-14T14:11:13.16986Z",
     "iopub.status.busy": "2022-08-14T14:11:13.169466Z",
     "iopub.status.idle": "2022-08-14T14:11:13.30102Z",
     "shell.execute_reply": "2022-08-14T14:11:13.300058Z",
     "shell.execute_reply.started": "2022-08-14T14:11:13.169827Z"
    }
   },
   "outputs": [],
   "source": [
    "all_data[\"LastName\"] = all_data.Name.str.split(\" \",expand = True)[1]\n",
    "last_name_count = all_data.Name.str.split(\" \",expand = True)[1].value_counts()\n",
    "all_data[\"FamilySize\"] = [last_name_count[x] if not pd.isna(x) else None for x in all_data[\"LastName\"]]\n",
    "all_data[\"FamilySize\"] = all_data[\"FamilySize\"].fillna(0)\n",
    "all_data.drop(columns = [\"LastName\" , \"Name\"] , inplace = True)"
   ]
  },
  {
   "cell_type": "markdown",
   "metadata": {},
   "source": [
    "**2 ) MoneySpent:**"
   ]
  },
  {
   "cell_type": "code",
   "execution_count": 93,
   "metadata": {
    "execution": {
     "iopub.execute_input": "2022-08-14T14:11:16.592801Z",
     "iopub.status.busy": "2022-08-14T14:11:16.592434Z",
     "iopub.status.idle": "2022-08-14T14:11:16.601587Z",
     "shell.execute_reply": "2022-08-14T14:11:16.600332Z",
     "shell.execute_reply.started": "2022-08-14T14:11:16.592771Z"
    }
   },
   "outputs": [],
   "source": [
    "all_data[\"MoneySpent\"] = all_data[\"RoomService\"] + all_data[\"FoodCourt\"] + all_data[\"ShoppingMall\"] + \\\n",
    "all_data[\"Spa\"] + all_data[\"VRDeck\"] "
   ]
  },
  {
   "cell_type": "markdown",
   "metadata": {},
   "source": [
    "**3 ) Spend Category:**"
   ]
  },
  {
   "cell_type": "code",
   "execution_count": 94,
   "metadata": {
    "execution": {
     "iopub.execute_input": "2022-08-14T14:11:41.451866Z",
     "iopub.status.busy": "2022-08-14T14:11:41.451466Z",
     "iopub.status.idle": "2022-08-14T14:11:41.472895Z",
     "shell.execute_reply": "2022-08-14T14:11:41.471747Z",
     "shell.execute_reply.started": "2022-08-14T14:11:41.451832Z"
    }
   },
   "outputs": [],
   "source": [
    "all_data['SpendCategory'] = ''\n",
    "all_data.loc[all_data['MoneySpent'].between(0, 1, 'left'), 'SpendCategory'] = 'Zero_Spend'\n",
    "all_data.loc[all_data['MoneySpent'].between(1, 800, 'both'), 'SpendCategory'] = 'Under_800'\n",
    "all_data.loc[all_data['MoneySpent'].between(800, 1200, 'right'), 'SpendCategory'] = 'Median_1200'\n",
    "all_data.loc[all_data['MoneySpent'].between(1200, 2700, 'right'), 'SpendCategory'] = 'Upper_2700'\n",
    "all_data.loc[all_data['MoneySpent'].between(2700, 100000, 'right'), 'SpendCategory'] = 'Big_Spender'\n",
    "all_data['SpendCategory'] = all_data['SpendCategory'].astype('category')"
   ]
  },
  {
   "cell_type": "markdown",
   "metadata": {},
   "source": [
    "**4 ) Any_Spend:**"
   ]
  },
  {
   "cell_type": "code",
   "execution_count": 95,
   "metadata": {
    "execution": {
     "iopub.execute_input": "2022-08-14T14:11:44.330497Z",
     "iopub.status.busy": "2022-08-14T14:11:44.329928Z",
     "iopub.status.idle": "2022-08-14T14:11:44.338024Z",
     "shell.execute_reply": "2022-08-14T14:11:44.336904Z",
     "shell.execute_reply.started": "2022-08-14T14:11:44.330446Z"
    }
   },
   "outputs": [],
   "source": [
    "all_data[\"AnySpend\"] = all_data[\"MoneySpent\"] > 0"
   ]
  },
  {
   "cell_type": "markdown",
   "metadata": {},
   "source": [
    "**5 ) Is Child:**"
   ]
  },
  {
   "cell_type": "code",
   "execution_count": 96,
   "metadata": {
    "execution": {
     "iopub.execute_input": "2022-08-14T14:11:48.201044Z",
     "iopub.status.busy": "2022-08-14T14:11:48.200461Z",
     "iopub.status.idle": "2022-08-14T14:11:48.208497Z",
     "shell.execute_reply": "2022-08-14T14:11:48.207039Z",
     "shell.execute_reply.started": "2022-08-14T14:11:48.200986Z"
    }
   },
   "outputs": [],
   "source": [
    "all_data[\"IsChild\"] = all_data[\"Age\"] <= 10"
   ]
  },
  {
   "cell_type": "code",
   "execution_count": 97,
   "metadata": {
    "execution": {
     "iopub.execute_input": "2022-08-14T14:11:49.350886Z",
     "iopub.status.busy": "2022-08-14T14:11:49.350501Z",
     "iopub.status.idle": "2022-08-14T14:11:49.38166Z",
     "shell.execute_reply": "2022-08-14T14:11:49.37946Z",
     "shell.execute_reply.started": "2022-08-14T14:11:49.350846Z"
    }
   },
   "outputs": [
    {
     "data": {
      "text/html": [
       "<div>\n",
       "<style scoped>\n",
       "    .dataframe tbody tr th:only-of-type {\n",
       "        vertical-align: middle;\n",
       "    }\n",
       "\n",
       "    .dataframe tbody tr th {\n",
       "        vertical-align: top;\n",
       "    }\n",
       "\n",
       "    .dataframe thead th {\n",
       "        text-align: right;\n",
       "    }\n",
       "</style>\n",
       "<table border=\"1\" class=\"dataframe\">\n",
       "  <thead>\n",
       "    <tr style=\"text-align: right;\">\n",
       "      <th></th>\n",
       "      <th>HomePlanet</th>\n",
       "      <th>CryoSleep</th>\n",
       "      <th>Destination</th>\n",
       "      <th>Age</th>\n",
       "      <th>VIP</th>\n",
       "      <th>RoomService</th>\n",
       "      <th>FoodCourt</th>\n",
       "      <th>ShoppingMall</th>\n",
       "      <th>Spa</th>\n",
       "      <th>VRDeck</th>\n",
       "      <th>PassengerGroup</th>\n",
       "      <th>deck</th>\n",
       "      <th>num</th>\n",
       "      <th>side</th>\n",
       "      <th>FamilySize</th>\n",
       "      <th>MoneySpent</th>\n",
       "      <th>SpendCategory</th>\n",
       "      <th>AnySpend</th>\n",
       "      <th>IsChild</th>\n",
       "    </tr>\n",
       "  </thead>\n",
       "  <tbody>\n",
       "    <tr>\n",
       "      <th>0</th>\n",
       "      <td>Europa</td>\n",
       "      <td>False</td>\n",
       "      <td>TRAPPIST-1e</td>\n",
       "      <td>39.0</td>\n",
       "      <td>False</td>\n",
       "      <td>0.0</td>\n",
       "      <td>0.0</td>\n",
       "      <td>0.0</td>\n",
       "      <td>0.0</td>\n",
       "      <td>0.0</td>\n",
       "      <td>1</td>\n",
       "      <td>B</td>\n",
       "      <td>0</td>\n",
       "      <td>P</td>\n",
       "      <td>3.0</td>\n",
       "      <td>0.0</td>\n",
       "      <td>Zero_Spend</td>\n",
       "      <td>False</td>\n",
       "      <td>False</td>\n",
       "    </tr>\n",
       "    <tr>\n",
       "      <th>1</th>\n",
       "      <td>Earth</td>\n",
       "      <td>False</td>\n",
       "      <td>TRAPPIST-1e</td>\n",
       "      <td>24.0</td>\n",
       "      <td>False</td>\n",
       "      <td>109.0</td>\n",
       "      <td>9.0</td>\n",
       "      <td>25.0</td>\n",
       "      <td>549.0</td>\n",
       "      <td>44.0</td>\n",
       "      <td>1</td>\n",
       "      <td>F</td>\n",
       "      <td>0</td>\n",
       "      <td>S</td>\n",
       "      <td>4.0</td>\n",
       "      <td>736.0</td>\n",
       "      <td>Under_800</td>\n",
       "      <td>True</td>\n",
       "      <td>False</td>\n",
       "    </tr>\n",
       "    <tr>\n",
       "      <th>2</th>\n",
       "      <td>Europa</td>\n",
       "      <td>False</td>\n",
       "      <td>TRAPPIST-1e</td>\n",
       "      <td>58.0</td>\n",
       "      <td>True</td>\n",
       "      <td>43.0</td>\n",
       "      <td>3576.0</td>\n",
       "      <td>0.0</td>\n",
       "      <td>6715.0</td>\n",
       "      <td>49.0</td>\n",
       "      <td>1</td>\n",
       "      <td>A</td>\n",
       "      <td>0</td>\n",
       "      <td>S</td>\n",
       "      <td>7.0</td>\n",
       "      <td>10383.0</td>\n",
       "      <td>Big_Spender</td>\n",
       "      <td>True</td>\n",
       "      <td>False</td>\n",
       "    </tr>\n",
       "    <tr>\n",
       "      <th>3</th>\n",
       "      <td>Europa</td>\n",
       "      <td>False</td>\n",
       "      <td>TRAPPIST-1e</td>\n",
       "      <td>33.0</td>\n",
       "      <td>False</td>\n",
       "      <td>0.0</td>\n",
       "      <td>1283.0</td>\n",
       "      <td>371.0</td>\n",
       "      <td>3329.0</td>\n",
       "      <td>193.0</td>\n",
       "      <td>2</td>\n",
       "      <td>A</td>\n",
       "      <td>0</td>\n",
       "      <td>S</td>\n",
       "      <td>7.0</td>\n",
       "      <td>5176.0</td>\n",
       "      <td>Big_Spender</td>\n",
       "      <td>True</td>\n",
       "      <td>False</td>\n",
       "    </tr>\n",
       "    <tr>\n",
       "      <th>4</th>\n",
       "      <td>Earth</td>\n",
       "      <td>False</td>\n",
       "      <td>TRAPPIST-1e</td>\n",
       "      <td>16.0</td>\n",
       "      <td>False</td>\n",
       "      <td>303.0</td>\n",
       "      <td>70.0</td>\n",
       "      <td>151.0</td>\n",
       "      <td>565.0</td>\n",
       "      <td>2.0</td>\n",
       "      <td>1</td>\n",
       "      <td>F</td>\n",
       "      <td>1</td>\n",
       "      <td>S</td>\n",
       "      <td>9.0</td>\n",
       "      <td>1091.0</td>\n",
       "      <td>Median_1200</td>\n",
       "      <td>True</td>\n",
       "      <td>False</td>\n",
       "    </tr>\n",
       "  </tbody>\n",
       "</table>\n",
       "</div>"
      ],
      "text/plain": [
       "  HomePlanet  CryoSleep  Destination   Age    VIP  RoomService  FoodCourt  \\\n",
       "0     Europa      False  TRAPPIST-1e  39.0  False          0.0        0.0   \n",
       "1      Earth      False  TRAPPIST-1e  24.0  False        109.0        9.0   \n",
       "2     Europa      False  TRAPPIST-1e  58.0   True         43.0     3576.0   \n",
       "3     Europa      False  TRAPPIST-1e  33.0  False          0.0     1283.0   \n",
       "4      Earth      False  TRAPPIST-1e  16.0  False        303.0       70.0   \n",
       "\n",
       "   ShoppingMall     Spa  VRDeck PassengerGroup deck  num side  FamilySize  \\\n",
       "0           0.0     0.0     0.0              1    B    0    P         3.0   \n",
       "1          25.0   549.0    44.0              1    F    0    S         4.0   \n",
       "2           0.0  6715.0    49.0              1    A    0    S         7.0   \n",
       "3         371.0  3329.0   193.0              2    A    0    S         7.0   \n",
       "4         151.0   565.0     2.0              1    F    1    S         9.0   \n",
       "\n",
       "   MoneySpent SpendCategory  AnySpend  IsChild  \n",
       "0         0.0    Zero_Spend     False    False  \n",
       "1       736.0     Under_800      True    False  \n",
       "2     10383.0   Big_Spender      True    False  \n",
       "3      5176.0   Big_Spender      True    False  \n",
       "4      1091.0   Median_1200      True    False  "
      ]
     },
     "execution_count": 97,
     "metadata": {},
     "output_type": "execute_result"
    }
   ],
   "source": [
    "all_data.head()"
   ]
  },
  {
   "cell_type": "markdown",
   "metadata": {},
   "source": [
    "<a class = \"anchor\" id  = \"prfortr\">\n",
    "\n",
    "<div style=\"color:black;\n",
    "           border-radius:0px;\n",
    "           background-color:#00ADB5;\n",
    "           font-size:14px;\n",
    "           font-family:sans-serif;\n",
    "           letter-spacing:0.5px\">\n",
    "        <p style=\"padding: 6px;\n",
    "              color:white;\">\n",
    "            <b>Preparing for Training:</b>\n",
    "        </p>\n",
    "</div>\n",
    "\n",
    "\n",
    "</a>\n",
    "\n",
    "\n"
   ]
  },
  {
   "cell_type": "code",
   "execution_count": 98,
   "metadata": {
    "execution": {
     "iopub.execute_input": "2022-08-14T14:12:13.563007Z",
     "iopub.status.busy": "2022-08-14T14:12:13.562617Z",
     "iopub.status.idle": "2022-08-14T14:12:13.574942Z",
     "shell.execute_reply": "2022-08-14T14:12:13.573687Z",
     "shell.execute_reply.started": "2022-08-14T14:12:13.562975Z"
    }
   },
   "outputs": [],
   "source": [
    "# =========================================================================\n",
    "#  Converting Bool to Int\n",
    "# =========================================================================\n",
    "\n",
    "all_data[\"CryoSleep\"] = all_data[\"CryoSleep\"].astype(int)\n",
    "all_data[\"VIP\"] = all_data[\"VIP\"].astype(int)\n",
    "all_data[\"IsChild\"] = all_data[\"IsChild\"].astype(int)\n",
    "all_data[\"FamilySize\"] = all_data[\"FamilySize\"].astype(int)\n",
    "all_data[\"AnySpend\"] = all_data[\"AnySpend\"].astype(int)"
   ]
  },
  {
   "cell_type": "code",
   "execution_count": 99,
   "metadata": {
    "execution": {
     "iopub.execute_input": "2022-08-14T14:12:35.264018Z",
     "iopub.status.busy": "2022-08-14T14:12:35.263625Z",
     "iopub.status.idle": "2022-08-14T14:12:35.291976Z",
     "shell.execute_reply": "2022-08-14T14:12:35.290998Z",
     "shell.execute_reply.started": "2022-08-14T14:12:35.263985Z"
    }
   },
   "outputs": [],
   "source": [
    "all_data = pd.get_dummies(all_data)"
   ]
  },
  {
   "cell_type": "code",
   "execution_count": 100,
   "metadata": {
    "execution": {
     "iopub.execute_input": "2022-08-14T14:14:37.526595Z",
     "iopub.status.busy": "2022-08-14T14:14:37.526167Z",
     "iopub.status.idle": "2022-08-14T14:14:37.559419Z",
     "shell.execute_reply": "2022-08-14T14:14:37.558163Z",
     "shell.execute_reply.started": "2022-08-14T14:14:37.526559Z"
    }
   },
   "outputs": [
    {
     "data": {
      "text/html": [
       "<div>\n",
       "<style scoped>\n",
       "    .dataframe tbody tr th:only-of-type {\n",
       "        vertical-align: middle;\n",
       "    }\n",
       "\n",
       "    .dataframe tbody tr th {\n",
       "        vertical-align: top;\n",
       "    }\n",
       "\n",
       "    .dataframe thead th {\n",
       "        text-align: right;\n",
       "    }\n",
       "</style>\n",
       "<table border=\"1\" class=\"dataframe\">\n",
       "  <thead>\n",
       "    <tr style=\"text-align: right;\">\n",
       "      <th></th>\n",
       "      <th>CryoSleep</th>\n",
       "      <th>Age</th>\n",
       "      <th>VIP</th>\n",
       "      <th>RoomService</th>\n",
       "      <th>FoodCourt</th>\n",
       "      <th>ShoppingMall</th>\n",
       "      <th>Spa</th>\n",
       "      <th>VRDeck</th>\n",
       "      <th>num</th>\n",
       "      <th>FamilySize</th>\n",
       "      <th>MoneySpent</th>\n",
       "      <th>AnySpend</th>\n",
       "      <th>IsChild</th>\n",
       "      <th>HomePlanet_Earth</th>\n",
       "      <th>HomePlanet_Europa</th>\n",
       "      <th>HomePlanet_Mars</th>\n",
       "      <th>Destination_55 Cancri e</th>\n",
       "      <th>Destination_PSO J318.5-22</th>\n",
       "      <th>Destination_TRAPPIST-1e</th>\n",
       "      <th>PassengerGroup_1</th>\n",
       "      <th>PassengerGroup_2</th>\n",
       "      <th>PassengerGroup_3</th>\n",
       "      <th>PassengerGroup_4</th>\n",
       "      <th>PassengerGroup_5</th>\n",
       "      <th>PassengerGroup_6</th>\n",
       "      <th>PassengerGroup_7</th>\n",
       "      <th>PassengerGroup_8</th>\n",
       "      <th>deck_A</th>\n",
       "      <th>deck_B</th>\n",
       "      <th>deck_C</th>\n",
       "      <th>deck_D</th>\n",
       "      <th>deck_E</th>\n",
       "      <th>deck_F</th>\n",
       "      <th>deck_G</th>\n",
       "      <th>deck_T</th>\n",
       "      <th>side_P</th>\n",
       "      <th>side_S</th>\n",
       "      <th>SpendCategory_Big_Spender</th>\n",
       "      <th>SpendCategory_Median_1200</th>\n",
       "      <th>SpendCategory_Under_800</th>\n",
       "      <th>SpendCategory_Upper_2700</th>\n",
       "      <th>SpendCategory_Zero_Spend</th>\n",
       "    </tr>\n",
       "  </thead>\n",
       "  <tbody>\n",
       "    <tr>\n",
       "      <th>0</th>\n",
       "      <td>0</td>\n",
       "      <td>39.0</td>\n",
       "      <td>0</td>\n",
       "      <td>0.0</td>\n",
       "      <td>0.0</td>\n",
       "      <td>0.0</td>\n",
       "      <td>0.0</td>\n",
       "      <td>0.0</td>\n",
       "      <td>0</td>\n",
       "      <td>3</td>\n",
       "      <td>0.0</td>\n",
       "      <td>0</td>\n",
       "      <td>0</td>\n",
       "      <td>0</td>\n",
       "      <td>1</td>\n",
       "      <td>0</td>\n",
       "      <td>0</td>\n",
       "      <td>0</td>\n",
       "      <td>1</td>\n",
       "      <td>1</td>\n",
       "      <td>0</td>\n",
       "      <td>0</td>\n",
       "      <td>0</td>\n",
       "      <td>0</td>\n",
       "      <td>0</td>\n",
       "      <td>0</td>\n",
       "      <td>0</td>\n",
       "      <td>0</td>\n",
       "      <td>1</td>\n",
       "      <td>0</td>\n",
       "      <td>0</td>\n",
       "      <td>0</td>\n",
       "      <td>0</td>\n",
       "      <td>0</td>\n",
       "      <td>0</td>\n",
       "      <td>1</td>\n",
       "      <td>0</td>\n",
       "      <td>0</td>\n",
       "      <td>0</td>\n",
       "      <td>0</td>\n",
       "      <td>0</td>\n",
       "      <td>1</td>\n",
       "    </tr>\n",
       "    <tr>\n",
       "      <th>1</th>\n",
       "      <td>0</td>\n",
       "      <td>24.0</td>\n",
       "      <td>0</td>\n",
       "      <td>109.0</td>\n",
       "      <td>9.0</td>\n",
       "      <td>25.0</td>\n",
       "      <td>549.0</td>\n",
       "      <td>44.0</td>\n",
       "      <td>0</td>\n",
       "      <td>4</td>\n",
       "      <td>736.0</td>\n",
       "      <td>1</td>\n",
       "      <td>0</td>\n",
       "      <td>1</td>\n",
       "      <td>0</td>\n",
       "      <td>0</td>\n",
       "      <td>0</td>\n",
       "      <td>0</td>\n",
       "      <td>1</td>\n",
       "      <td>1</td>\n",
       "      <td>0</td>\n",
       "      <td>0</td>\n",
       "      <td>0</td>\n",
       "      <td>0</td>\n",
       "      <td>0</td>\n",
       "      <td>0</td>\n",
       "      <td>0</td>\n",
       "      <td>0</td>\n",
       "      <td>0</td>\n",
       "      <td>0</td>\n",
       "      <td>0</td>\n",
       "      <td>0</td>\n",
       "      <td>1</td>\n",
       "      <td>0</td>\n",
       "      <td>0</td>\n",
       "      <td>0</td>\n",
       "      <td>1</td>\n",
       "      <td>0</td>\n",
       "      <td>0</td>\n",
       "      <td>1</td>\n",
       "      <td>0</td>\n",
       "      <td>0</td>\n",
       "    </tr>\n",
       "    <tr>\n",
       "      <th>2</th>\n",
       "      <td>0</td>\n",
       "      <td>58.0</td>\n",
       "      <td>1</td>\n",
       "      <td>43.0</td>\n",
       "      <td>3576.0</td>\n",
       "      <td>0.0</td>\n",
       "      <td>6715.0</td>\n",
       "      <td>49.0</td>\n",
       "      <td>0</td>\n",
       "      <td>7</td>\n",
       "      <td>10383.0</td>\n",
       "      <td>1</td>\n",
       "      <td>0</td>\n",
       "      <td>0</td>\n",
       "      <td>1</td>\n",
       "      <td>0</td>\n",
       "      <td>0</td>\n",
       "      <td>0</td>\n",
       "      <td>1</td>\n",
       "      <td>1</td>\n",
       "      <td>0</td>\n",
       "      <td>0</td>\n",
       "      <td>0</td>\n",
       "      <td>0</td>\n",
       "      <td>0</td>\n",
       "      <td>0</td>\n",
       "      <td>0</td>\n",
       "      <td>1</td>\n",
       "      <td>0</td>\n",
       "      <td>0</td>\n",
       "      <td>0</td>\n",
       "      <td>0</td>\n",
       "      <td>0</td>\n",
       "      <td>0</td>\n",
       "      <td>0</td>\n",
       "      <td>0</td>\n",
       "      <td>1</td>\n",
       "      <td>1</td>\n",
       "      <td>0</td>\n",
       "      <td>0</td>\n",
       "      <td>0</td>\n",
       "      <td>0</td>\n",
       "    </tr>\n",
       "    <tr>\n",
       "      <th>3</th>\n",
       "      <td>0</td>\n",
       "      <td>33.0</td>\n",
       "      <td>0</td>\n",
       "      <td>0.0</td>\n",
       "      <td>1283.0</td>\n",
       "      <td>371.0</td>\n",
       "      <td>3329.0</td>\n",
       "      <td>193.0</td>\n",
       "      <td>0</td>\n",
       "      <td>7</td>\n",
       "      <td>5176.0</td>\n",
       "      <td>1</td>\n",
       "      <td>0</td>\n",
       "      <td>0</td>\n",
       "      <td>1</td>\n",
       "      <td>0</td>\n",
       "      <td>0</td>\n",
       "      <td>0</td>\n",
       "      <td>1</td>\n",
       "      <td>0</td>\n",
       "      <td>1</td>\n",
       "      <td>0</td>\n",
       "      <td>0</td>\n",
       "      <td>0</td>\n",
       "      <td>0</td>\n",
       "      <td>0</td>\n",
       "      <td>0</td>\n",
       "      <td>1</td>\n",
       "      <td>0</td>\n",
       "      <td>0</td>\n",
       "      <td>0</td>\n",
       "      <td>0</td>\n",
       "      <td>0</td>\n",
       "      <td>0</td>\n",
       "      <td>0</td>\n",
       "      <td>0</td>\n",
       "      <td>1</td>\n",
       "      <td>1</td>\n",
       "      <td>0</td>\n",
       "      <td>0</td>\n",
       "      <td>0</td>\n",
       "      <td>0</td>\n",
       "    </tr>\n",
       "    <tr>\n",
       "      <th>4</th>\n",
       "      <td>0</td>\n",
       "      <td>16.0</td>\n",
       "      <td>0</td>\n",
       "      <td>303.0</td>\n",
       "      <td>70.0</td>\n",
       "      <td>151.0</td>\n",
       "      <td>565.0</td>\n",
       "      <td>2.0</td>\n",
       "      <td>1</td>\n",
       "      <td>9</td>\n",
       "      <td>1091.0</td>\n",
       "      <td>1</td>\n",
       "      <td>0</td>\n",
       "      <td>1</td>\n",
       "      <td>0</td>\n",
       "      <td>0</td>\n",
       "      <td>0</td>\n",
       "      <td>0</td>\n",
       "      <td>1</td>\n",
       "      <td>1</td>\n",
       "      <td>0</td>\n",
       "      <td>0</td>\n",
       "      <td>0</td>\n",
       "      <td>0</td>\n",
       "      <td>0</td>\n",
       "      <td>0</td>\n",
       "      <td>0</td>\n",
       "      <td>0</td>\n",
       "      <td>0</td>\n",
       "      <td>0</td>\n",
       "      <td>0</td>\n",
       "      <td>0</td>\n",
       "      <td>1</td>\n",
       "      <td>0</td>\n",
       "      <td>0</td>\n",
       "      <td>0</td>\n",
       "      <td>1</td>\n",
       "      <td>0</td>\n",
       "      <td>1</td>\n",
       "      <td>0</td>\n",
       "      <td>0</td>\n",
       "      <td>0</td>\n",
       "    </tr>\n",
       "  </tbody>\n",
       "</table>\n",
       "</div>"
      ],
      "text/plain": [
       "   CryoSleep   Age  VIP  RoomService  FoodCourt  ShoppingMall     Spa  VRDeck  \\\n",
       "0          0  39.0    0          0.0        0.0           0.0     0.0     0.0   \n",
       "1          0  24.0    0        109.0        9.0          25.0   549.0    44.0   \n",
       "2          0  58.0    1         43.0     3576.0           0.0  6715.0    49.0   \n",
       "3          0  33.0    0          0.0     1283.0         371.0  3329.0   193.0   \n",
       "4          0  16.0    0        303.0       70.0         151.0   565.0     2.0   \n",
       "\n",
       "   num  FamilySize  MoneySpent  AnySpend  IsChild  HomePlanet_Earth  \\\n",
       "0    0           3         0.0         0        0                 0   \n",
       "1    0           4       736.0         1        0                 1   \n",
       "2    0           7     10383.0         1        0                 0   \n",
       "3    0           7      5176.0         1        0                 0   \n",
       "4    1           9      1091.0         1        0                 1   \n",
       "\n",
       "   HomePlanet_Europa  HomePlanet_Mars  Destination_55 Cancri e  \\\n",
       "0                  1                0                        0   \n",
       "1                  0                0                        0   \n",
       "2                  1                0                        0   \n",
       "3                  1                0                        0   \n",
       "4                  0                0                        0   \n",
       "\n",
       "   Destination_PSO J318.5-22  Destination_TRAPPIST-1e  PassengerGroup_1  \\\n",
       "0                          0                        1                 1   \n",
       "1                          0                        1                 1   \n",
       "2                          0                        1                 1   \n",
       "3                          0                        1                 0   \n",
       "4                          0                        1                 1   \n",
       "\n",
       "   PassengerGroup_2  PassengerGroup_3  PassengerGroup_4  PassengerGroup_5  \\\n",
       "0                 0                 0                 0                 0   \n",
       "1                 0                 0                 0                 0   \n",
       "2                 0                 0                 0                 0   \n",
       "3                 1                 0                 0                 0   \n",
       "4                 0                 0                 0                 0   \n",
       "\n",
       "   PassengerGroup_6  PassengerGroup_7  PassengerGroup_8  deck_A  deck_B  \\\n",
       "0                 0                 0                 0       0       1   \n",
       "1                 0                 0                 0       0       0   \n",
       "2                 0                 0                 0       1       0   \n",
       "3                 0                 0                 0       1       0   \n",
       "4                 0                 0                 0       0       0   \n",
       "\n",
       "   deck_C  deck_D  deck_E  deck_F  deck_G  deck_T  side_P  side_S  \\\n",
       "0       0       0       0       0       0       0       1       0   \n",
       "1       0       0       0       1       0       0       0       1   \n",
       "2       0       0       0       0       0       0       0       1   \n",
       "3       0       0       0       0       0       0       0       1   \n",
       "4       0       0       0       1       0       0       0       1   \n",
       "\n",
       "   SpendCategory_Big_Spender  SpendCategory_Median_1200  \\\n",
       "0                          0                          0   \n",
       "1                          0                          0   \n",
       "2                          1                          0   \n",
       "3                          1                          0   \n",
       "4                          0                          1   \n",
       "\n",
       "   SpendCategory_Under_800  SpendCategory_Upper_2700  SpendCategory_Zero_Spend  \n",
       "0                        0                         0                         1  \n",
       "1                        1                         0                         0  \n",
       "2                        0                         0                         0  \n",
       "3                        0                         0                         0  \n",
       "4                        0                         0                         0  "
      ]
     },
     "execution_count": 100,
     "metadata": {},
     "output_type": "execute_result"
    }
   ],
   "source": [
    "all_data.head()"
   ]
  },
  {
   "cell_type": "code",
   "execution_count": 101,
   "metadata": {
    "execution": {
     "iopub.execute_input": "2022-08-14T14:14:51.143676Z",
     "iopub.status.busy": "2022-08-14T14:14:51.14326Z",
     "iopub.status.idle": "2022-08-14T14:14:51.149968Z",
     "shell.execute_reply": "2022-08-14T14:14:51.148761Z",
     "shell.execute_reply.started": "2022-08-14T14:14:51.143643Z"
    }
   },
   "outputs": [],
   "source": [
    "train_data = all_data[:len(train_data)]\n",
    "test_data = all_data[len(train_data):]"
   ]
  },
  {
   "cell_type": "markdown",
   "metadata": {},
   "source": [
    "<a href=\"#toc\" role=\"button\" aria-pressed=\"true\" >Back to Table of Contents  ⬆️</a>"
   ]
  },
  {
   "cell_type": "markdown",
   "metadata": {},
   "source": [
    "\n",
    "<a class = \"anchor\" id = \"modeling\">\n",
    "\n",
    "\n",
    "<div style=\"color:#00ADB5;\n",
    "           display:fill;\n",
    "           border-radius:5px;\n",
    "           background-color:#393E46;\n",
    "           font-size:20px;\n",
    "           font-family:sans-serif;\n",
    "           letter-spacing:0.5px\">\n",
    "        <p style=\"padding: 10px;\n",
    "              color:white;\">\n",
    "            <b> 5 ) Modeling:</b>\n",
    "        </p>\n",
    "</div>\n",
    "\n",
    "\n",
    "\n",
    "</a>\n",
    "\n",
    "\n",
    "\n",
    "\n"
   ]
  },
  {
   "cell_type": "code",
   "execution_count": 102,
   "metadata": {
    "execution": {
     "iopub.execute_input": "2022-08-14T14:14:54.591441Z",
     "iopub.status.busy": "2022-08-14T14:14:54.590975Z",
     "iopub.status.idle": "2022-08-14T14:14:55.101313Z",
     "shell.execute_reply": "2022-08-14T14:14:55.100257Z",
     "shell.execute_reply.started": "2022-08-14T14:14:54.5914Z"
    }
   },
   "outputs": [],
   "source": [
    "from sklearn.ensemble import RandomForestClassifier, AdaBoostClassifier, GradientBoostingClassifier, ExtraTreesClassifier, VotingClassifier\n",
    "from sklearn.discriminant_analysis import LinearDiscriminantAnalysis\n",
    "from sklearn.linear_model import LogisticRegression\n",
    "from sklearn.neighbors import KNeighborsClassifier\n",
    "from sklearn.tree import DecisionTreeClassifier\n",
    "from sklearn.neural_network import MLPClassifier\n",
    "from sklearn.svm import SVC\n",
    "from sklearn.model_selection import GridSearchCV, cross_val_score, StratifiedKFold, learning_curve\n",
    "from xgboost import XGBClassifier"
   ]
  },
  {
   "cell_type": "code",
   "execution_count": 103,
   "metadata": {
    "execution": {
     "iopub.execute_input": "2022-08-14T14:14:59.068893Z",
     "iopub.status.busy": "2022-08-14T14:14:59.0685Z",
     "iopub.status.idle": "2022-08-14T14:14:59.075736Z",
     "shell.execute_reply": "2022-08-14T14:14:59.074625Z",
     "shell.execute_reply.started": "2022-08-14T14:14:59.068862Z"
    }
   },
   "outputs": [
    {
     "name": "stdout",
     "output_type": "stream",
     "text": [
      "X_train shape is = (8693, 42)\n",
      "Y_train shape is = (8693,)\n",
      "Test shape is = (4277, 42)\n"
     ]
    }
   ],
   "source": [
    "# ==================================================================================\n",
    "# Preparing Data For Training:\n",
    "# ==================================================================================\n",
    "\n",
    "Y_train = transported\n",
    "X_train = train_data\n",
    "X_test = test_data\n",
    "print(f\"X_train shape is = {X_train.shape}\" )\n",
    "print(f\"Y_train shape is = {Y_train.shape}\" )\n",
    "print(f\"Test shape is = {X_test.shape}\" )"
   ]
  },
  {
   "cell_type": "code",
   "execution_count": 104,
   "metadata": {
    "execution": {
     "iopub.execute_input": "2022-08-14T14:15:02.274625Z",
     "iopub.status.busy": "2022-08-14T14:15:02.273521Z",
     "iopub.status.idle": "2022-08-14T14:15:02.28141Z",
     "shell.execute_reply": "2022-08-14T14:15:02.279969Z",
     "shell.execute_reply.started": "2022-08-14T14:15:02.274569Z"
    }
   },
   "outputs": [],
   "source": [
    "# Cross validate model with Kfold stratified cross val\n",
    "kfold = StratifiedKFold(n_splits=12)"
   ]
  },
  {
   "cell_type": "code",
   "execution_count": 105,
   "metadata": {
    "execution": {
     "iopub.execute_input": "2022-08-14T14:15:05.923523Z",
     "iopub.status.busy": "2022-08-14T14:15:05.922543Z",
     "iopub.status.idle": "2022-08-14T14:15:05.93519Z",
     "shell.execute_reply": "2022-08-14T14:15:05.933421Z",
     "shell.execute_reply.started": "2022-08-14T14:15:05.923477Z"
    }
   },
   "outputs": [],
   "source": [
    "def plot_learning_curve(estimator, title, X, y, ylim=None, cv=None,\n",
    "                        n_jobs=-1, train_sizes=np.linspace(.1, 1.0, 5)):\n",
    "    \"\"\"Generate a simple plot of the test and training learning curve\"\"\"\n",
    "    plt.figure()\n",
    "    plt.title(title)\n",
    "    if ylim is not None:\n",
    "        plt.ylim(*ylim)\n",
    "    plt.xlabel(\"Training examples\")\n",
    "    plt.ylabel(\"Score\")\n",
    "    train_sizes, train_scores, test_scores = learning_curve(\n",
    "        estimator, X, y, cv=cv, n_jobs=n_jobs, train_sizes=train_sizes)\n",
    "    train_scores_mean = np.mean(train_scores, axis=1)\n",
    "    train_scores_std = np.std(train_scores, axis=1)\n",
    "    test_scores_mean = np.mean(test_scores, axis=1)\n",
    "    test_scores_std = np.std(test_scores, axis=1)\n",
    "    plt.grid()\n",
    "\n",
    "    plt.fill_between(train_sizes, train_scores_mean - train_scores_std,\n",
    "                     train_scores_mean + train_scores_std, alpha=0.1,\n",
    "                     color=\"r\")\n",
    "    plt.fill_between(train_sizes, test_scores_mean - test_scores_std,\n",
    "                     test_scores_mean + test_scores_std, alpha=0.1, color=\"g\")\n",
    "    plt.plot(train_sizes, train_scores_mean, 'o-', color=\"r\",\n",
    "             label=\"Training score\")\n",
    "    plt.plot(train_sizes, test_scores_mean, 'o-', color=\"g\",\n",
    "             label=\"Cross-validation score\")\n",
    "\n",
    "    plt.legend(loc=\"best\")\n",
    "    return plt"
   ]
  },
  {
   "cell_type": "code",
   "execution_count": 106,
   "metadata": {
    "execution": {
     "iopub.execute_input": "2022-08-14T14:15:12.845293Z",
     "iopub.status.busy": "2022-08-14T14:15:12.844878Z",
     "iopub.status.idle": "2022-08-14T14:17:13.335095Z",
     "shell.execute_reply": "2022-08-14T14:17:13.333929Z",
     "shell.execute_reply.started": "2022-08-14T14:15:12.845258Z"
    }
   },
   "outputs": [
    {
     "data": {
      "image/png": "[encoded data removed]",
      "text/plain": [
       "<Figure size 432x288 with 1 Axes>"
      ]
     },
     "metadata": {},
     "output_type": "display_data"
    }
   ],
   "source": [
    "# Modeling step Test different algorithms \n",
    "# Modeling step Test different algorithms \n",
    "random_state = 2\n",
    "classifiers = []\n",
    "classifiers.append(DecisionTreeClassifier(random_state=random_state))\n",
    "classifiers.append(AdaBoostClassifier(DecisionTreeClassifier(random_state=random_state),random_state=random_state,learning_rate=0.1))\n",
    "classifiers.append(RandomForestClassifier(random_state=random_state))\n",
    "classifiers.append(ExtraTreesClassifier(random_state=random_state))\n",
    "classifiers.append(GradientBoostingClassifier(random_state=random_state))\n",
    "classifiers.append(MLPClassifier(random_state=random_state))\n",
    "classifiers.append(KNeighborsClassifier())\n",
    "classifiers.append(LogisticRegression(random_state = random_state))\n",
    "classifiers.append(LinearDiscriminantAnalysis())\n",
    "classifiers.append(XGBClassifier(random_state = random_state))\n",
    "cv_results = []\n",
    "for classifier in classifiers :\n",
    "    cv_results.append(cross_val_score(classifier, X_train, y = Y_train, scoring = \"accuracy\", cv = kfold))\n",
    "\n",
    "cv_means = []\n",
    "cv_std = []\n",
    "for cv_result in cv_results:\n",
    "    cv_means.append(cv_result.mean())\n",
    "    cv_std.append(cv_result.std())\n",
    "\n",
    "cv_res = pd.DataFrame({\"CrossValMeans\":cv_means,\"CrossValerrors\": cv_std,\"Algorithm\":[\"DecisionTree\",\"AdaBoost\",\n",
    "\"RandomForest\",\"ExtraTrees\",\"GradientBoosting\",\"MultipleLayerPerceptron\",\"KNeighboors\",\"LogisticRegression\",\n",
    "                                                                                      \"LinearDiscriminantAnalysis\" ,\"XGBoost\"]})\n",
    "\n",
    "g = sns.barplot(\"CrossValMeans\",\"Algorithm\",data = cv_res, palette=\"Set3\",orient = \"h\",**{'xerr':cv_std})\n",
    "g.set_xlabel(\"Mean Accuracy\")\n",
    "g = g.set_title(\"Cross validation scores\")"
   ]
  },
  {
   "cell_type": "code",
   "execution_count": 107,
   "metadata": {
    "execution": {
     "iopub.execute_input": "2022-08-14T14:17:19.899698Z",
     "iopub.status.busy": "2022-08-14T14:17:19.899237Z",
     "iopub.status.idle": "2022-08-14T14:17:19.916158Z",
     "shell.execute_reply": "2022-08-14T14:17:19.91482Z",
     "shell.execute_reply.started": "2022-08-14T14:17:19.899661Z"
    }
   },
   "outputs": [
    {
     "data": {
      "text/html": [
       "<div>\n",
       "<style scoped>\n",
       "    .dataframe tbody tr th:only-of-type {\n",
       "        vertical-align: middle;\n",
       "    }\n",
       "\n",
       "    .dataframe tbody tr th {\n",
       "        vertical-align: top;\n",
       "    }\n",
       "\n",
       "    .dataframe thead th {\n",
       "        text-align: right;\n",
       "    }\n",
       "</style>\n",
       "<table border=\"1\" class=\"dataframe\">\n",
       "  <thead>\n",
       "    <tr style=\"text-align: right;\">\n",
       "      <th></th>\n",
       "      <th>Model</th>\n",
       "      <th>Score</th>\n",
       "      <th>Std</th>\n",
       "    </tr>\n",
       "  </thead>\n",
       "  <tbody>\n",
       "    <tr>\n",
       "      <th>4</th>\n",
       "      <td>GradientBoosting</td>\n",
       "      <td>0.796514</td>\n",
       "      <td>0.027979</td>\n",
       "    </tr>\n",
       "    <tr>\n",
       "      <th>2</th>\n",
       "      <td>RandomForest</td>\n",
       "      <td>0.793982</td>\n",
       "      <td>0.020305</td>\n",
       "    </tr>\n",
       "    <tr>\n",
       "      <th>3</th>\n",
       "      <td>ExtraTrees</td>\n",
       "      <td>0.789379</td>\n",
       "      <td>0.019352</td>\n",
       "    </tr>\n",
       "    <tr>\n",
       "      <th>7</th>\n",
       "      <td>LogisticRegression</td>\n",
       "      <td>0.785809</td>\n",
       "      <td>0.015459</td>\n",
       "    </tr>\n",
       "    <tr>\n",
       "      <th>8</th>\n",
       "      <td>LinearDiscriminantAnalysis</td>\n",
       "      <td>0.774648</td>\n",
       "      <td>0.015827</td>\n",
       "    </tr>\n",
       "    <tr>\n",
       "      <th>9</th>\n",
       "      <td>XGBoost</td>\n",
       "      <td>0.772593</td>\n",
       "      <td>0.045347</td>\n",
       "    </tr>\n",
       "    <tr>\n",
       "      <th>6</th>\n",
       "      <td>KNeighboors</td>\n",
       "      <td>0.742340</td>\n",
       "      <td>0.045064</td>\n",
       "    </tr>\n",
       "    <tr>\n",
       "      <th>5</th>\n",
       "      <td>MultipleLayerPerceptron</td>\n",
       "      <td>0.730931</td>\n",
       "      <td>0.031368</td>\n",
       "    </tr>\n",
       "    <tr>\n",
       "      <th>0</th>\n",
       "      <td>DecisionTree</td>\n",
       "      <td>0.728530</td>\n",
       "      <td>0.036931</td>\n",
       "    </tr>\n",
       "    <tr>\n",
       "      <th>1</th>\n",
       "      <td>AdaBoost</td>\n",
       "      <td>0.724962</td>\n",
       "      <td>0.034402</td>\n",
       "    </tr>\n",
       "  </tbody>\n",
       "</table>\n",
       "</div>"
      ],
      "text/plain": [
       "                        Model     Score       Std\n",
       "4            GradientBoosting  0.796514  0.027979\n",
       "2                RandomForest  0.793982  0.020305\n",
       "3                  ExtraTrees  0.789379  0.019352\n",
       "7          LogisticRegression  0.785809  0.015459\n",
       "8  LinearDiscriminantAnalysis  0.774648  0.015827\n",
       "9                     XGBoost  0.772593  0.045347\n",
       "6                 KNeighboors  0.742340  0.045064\n",
       "5     MultipleLayerPerceptron  0.730931  0.031368\n",
       "0                DecisionTree  0.728530  0.036931\n",
       "1                    AdaBoost  0.724962  0.034402"
      ]
     },
     "execution_count": 107,
     "metadata": {},
     "output_type": "execute_result"
    }
   ],
   "source": [
    "results = pd.DataFrame({\"Model\" : [\"DecisionTree\",\"AdaBoost\",\n",
    "\"RandomForest\",\"ExtraTrees\",\"GradientBoosting\",\"MultipleLayerPerceptron\",\"KNeighboors\",\"LogisticRegression\",\n",
    "                                                                                      \"LinearDiscriminantAnalysis\" ,\"XGBoost\"],\"Score\" : cv_means , \"Std\" : cv_std})\n",
    "results.sort_values(\"Score\" , ascending = False)"
   ]
  },
  {
   "cell_type": "code",
   "execution_count": 108,
   "metadata": {
    "execution": {
     "iopub.execute_input": "2022-08-14T15:11:33.218359Z",
     "iopub.status.busy": "2022-08-14T15:11:33.217899Z",
     "iopub.status.idle": "2022-08-14T15:11:56.030853Z",
     "shell.execute_reply": "2022-08-14T15:11:56.029533Z",
     "shell.execute_reply.started": "2022-08-14T15:11:33.218288Z"
    }
   },
   "outputs": [
    {
     "name": "stdout",
     "output_type": "stream",
     "text": [
      "Fitting 5 folds for each of 1 candidates, totalling 5 fits\n",
      "The best Model Parameters is :\n",
      "GradientBoostingClassifier(learning_rate=0.01, max_depth=14, max_features=0.05,\n",
      "                           min_samples_leaf=25, n_estimators=600,\n",
      "                           random_state=2)\n",
      "With Cross Validation Score = 0.8009925945826835\n"
     ]
    }
   ],
   "source": [
    "# Gradient boosting tunning\n",
    "\n",
    "GBC = GradientBoostingClassifier(random_state=random_state)\n",
    "\n",
    "gb_param_grid = {\n",
    "              'learning_rate': [0.01],\n",
    "                \"max_depth\" : [14],\n",
    "              'min_samples_leaf': [25],\n",
    "              'max_features': [0.05] , \n",
    "                \"n_estimators\" : [600]\n",
    "              }\n",
    "\n",
    "gsGBC = GridSearchCV(GBC,param_grid = gb_param_grid, cv=5, scoring=\"accuracy\", verbose = 1)\n",
    "\n",
    "gsGBC.fit(X_train,Y_train)\n",
    "\n",
    "GBC_best = gsGBC.best_estimator_\n",
    "\n",
    "print(\"The best Model Parameters is :\")\n",
    "print(GBC_best)\n",
    "print(f\"With Cross Validation Score = {gsGBC.best_score_}\")\n"
   ]
  },
  {
   "cell_type": "code",
   "execution_count": 109,
   "metadata": {
    "execution": {
     "iopub.execute_input": "2022-08-14T16:00:50.972992Z",
     "iopub.status.busy": "2022-08-14T16:00:50.972548Z",
     "iopub.status.idle": "2022-08-14T16:01:29.288436Z",
     "shell.execute_reply": "2022-08-14T16:01:29.287262Z",
     "shell.execute_reply.started": "2022-08-14T16:00:50.972956Z"
    }
   },
   "outputs": [
    {
     "data": {
      "text/plain": [
       "<module 'matplotlib.pyplot' from 'C:\\\\ProgramData\\\\Anaconda3\\\\lib\\\\site-packages\\\\matplotlib\\\\pyplot.py'>"
      ]
     },
     "execution_count": 109,
     "metadata": {},
     "output_type": "execute_result"
    },
    {
     "data": {
      "image/png": "[encoded data removed]",
      "text/plain": [
       "<Figure size 432x288 with 1 Axes>"
      ]
     },
     "metadata": {},
     "output_type": "display_data"
    }
   ],
   "source": [
    "plot_learning_curve(GBC_best , \"Gradient Boosting\" , X_train , Y_train)"
   ]
  },
  {
   "cell_type": "code",
   "execution_count": 110,
   "metadata": {
    "execution": {
     "iopub.execute_input": "2022-08-14T16:09:22.593491Z",
     "iopub.status.busy": "2022-08-14T16:09:22.593074Z",
     "iopub.status.idle": "2022-08-14T16:10:05.572331Z",
     "shell.execute_reply": "2022-08-14T16:10:05.570912Z",
     "shell.execute_reply.started": "2022-08-14T16:09:22.593458Z"
    }
   },
   "outputs": [
    {
     "name": "stdout",
     "output_type": "stream",
     "text": [
      "Fitting 5 folds for each of 1 candidates, totalling 5 fits\n",
      "The best Model Parameters is :\n",
      "RandomForestClassifier(bootstrap=False, max_depth=16, max_features=0.2,\n",
      "                       min_samples_leaf=15, min_samples_split=5,\n",
      "                       n_estimators=560, random_state=2)\n",
      "With Cross Validation Score = 0.7999575831248333\n"
     ]
    }
   ],
   "source": [
    "# RFC Parameters tunning \n",
    "RFC = RandomForestClassifier(random_state=random_state)\n",
    "\n",
    "rf_param_grid = {\"max_depth\": [16],\n",
    "              \"max_features\": [0.2],\n",
    "              \"min_samples_leaf\": [15],\n",
    "              \"min_samples_split\": [5],\n",
    "              \"bootstrap\": [False],\n",
    "              \"n_estimators\" :[560],\n",
    "              \"criterion\": [\"gini\"]}\n",
    "\n",
    "gsRFC = GridSearchCV(RFC,param_grid = rf_param_grid, cv=5, scoring=\"accuracy\", verbose = 1)\n",
    "\n",
    "gsRFC.fit(X_train,Y_train)\n",
    "\n",
    "RFC_best = gsRFC.best_estimator_\n",
    "\n",
    "print(\"The best Model Parameters is :\")\n",
    "print(RFC_best)\n",
    "print(f\"With Cross Validation Score = {gsRFC.best_score_}\")"
   ]
  },
  {
   "cell_type": "code",
   "execution_count": 111,
   "metadata": {
    "execution": {
     "iopub.execute_input": "2022-08-14T15:58:55.802301Z",
     "iopub.status.busy": "2022-08-14T15:58:55.801868Z",
     "iopub.status.idle": "2022-08-14T15:59:35.433593Z",
     "shell.execute_reply": "2022-08-14T15:59:35.432131Z",
     "shell.execute_reply.started": "2022-08-14T15:58:55.802262Z"
    }
   },
   "outputs": [
    {
     "data": {
      "text/plain": [
       "<module 'matplotlib.pyplot' from 'C:\\\\ProgramData\\\\Anaconda3\\\\lib\\\\site-packages\\\\matplotlib\\\\pyplot.py'>"
      ]
     },
     "execution_count": 111,
     "metadata": {},
     "output_type": "execute_result"
    },
    {
     "data": {
      "image/png": "[encoded data removed]",
      "text/plain": [
       "<Figure size 432x288 with 1 Axes>"
      ]
     },
     "metadata": {},
     "output_type": "display_data"
    }
   ],
   "source": [
    "plot_learning_curve(RFC_best , \"Random Forest\" , X_train , Y_train)"
   ]
  },
  {
   "cell_type": "code",
   "execution_count": 112,
   "metadata": {
    "execution": {
     "iopub.execute_input": "2022-08-14T16:24:49.992104Z",
     "iopub.status.busy": "2022-08-14T16:24:49.991707Z",
     "iopub.status.idle": "2022-08-14T16:29:44.682344Z",
     "shell.execute_reply": "2022-08-14T16:29:44.681153Z",
     "shell.execute_reply.started": "2022-08-14T16:24:49.992073Z"
    }
   },
   "outputs": [
    {
     "name": "stdout",
     "output_type": "stream",
     "text": [
      "Fitting 5 folds for each of 1 candidates, totalling 5 fits\n",
      "The best Model Parameters is :\n",
      "ExtraTreesClassifier(max_depth=18, max_features=0.5, min_samples_leaf=15,\n",
      "                     min_samples_split=5, n_estimators=550, random_state=2)\n",
      "With Cross Validation Score = 0.7978855088469954\n"
     ]
    }
   ],
   "source": [
    "#ExtraTrees \n",
    "ExtC = ExtraTreesClassifier(random_state=random_state)\n",
    "\n",
    "## Search grid for optimal parameters\n",
    "ex_param_grid = {\"max_depth\": [18],\n",
    "              \"max_features\": [0.5],\n",
    "              \"min_samples_split\": [5],\n",
    "              \"min_samples_leaf\": [15],\n",
    "              \"bootstrap\": [False],\n",
    "              \"n_estimators\" :[550],\n",
    "              \"criterion\": [\"gini\"],\n",
    "                }\n",
    "\n",
    "gsExtC = GridSearchCV(ExtC,param_grid = ex_param_grid, cv=5, scoring=\"accuracy\", verbose = 1)\n",
    "\n",
    "gsExtC.fit(X_train,Y_train)\n",
    "\n",
    "ExtC_best = gsExtC.best_estimator_\n",
    "\n",
    "print(\"The best Model Parameters is :\")\n",
    "print(ExtC_best)\n",
    "print(f\"With Cross Validation Score = {gsExtC.best_score_}\")"
   ]
  },
  {
   "cell_type": "code",
   "execution_count": 113,
   "metadata": {},
   "outputs": [
    {
     "data": {
      "text/plain": [
       "<module 'matplotlib.pyplot' from 'C:\\\\ProgramData\\\\Anaconda3\\\\lib\\\\site-packages\\\\matplotlib\\\\pyplot.py'>"
      ]
     },
     "execution_count": 113,
     "metadata": {},
     "output_type": "execute_result"
    },
    {
     "data": {
      "image/png": "[encoded data removed]",
      "text/plain": [
       "<Figure size 432x288 with 1 Axes>"
      ]
     },
     "metadata": {},
     "output_type": "display_data"
    }
   ],
   "source": [
    "plot_learning_curve(ExtC_best , \"Extra Trees\" , X_train , Y_train)"
   ]
  },
  {
   "cell_type": "code",
   "execution_count": 114,
   "metadata": {
    "execution": {
     "iopub.execute_input": "2022-08-14T16:35:29.644038Z",
     "iopub.status.busy": "2022-08-14T16:35:29.643611Z",
     "iopub.status.idle": "2022-08-14T16:36:16.458478Z",
     "shell.execute_reply": "2022-08-14T16:36:16.456997Z",
     "shell.execute_reply.started": "2022-08-14T16:35:29.644Z"
    }
   },
   "outputs": [
    {
     "name": "stdout",
     "output_type": "stream",
     "text": [
      "Fitting 5 folds for each of 1 candidates, totalling 5 fits\n",
      "The best Model Parameters is :\n",
      "LogisticRegression(C=0.005, max_iter=600, random_state=2)\n",
      "With Cross Validation Score = 0.7898317949220184\n"
     ]
    }
   ],
   "source": [
    "# Logistic Regression: \n",
    "LogReg = LogisticRegression(random_state=random_state)\n",
    "\n",
    "## Search grid for optimal parameters\n",
    "log_reg_param_grid = {\n",
    "\"C\":[0.005]   ,\n",
    "    \"max_iter\" : [600]\n",
    "}\n",
    "\n",
    "gsLogReg = GridSearchCV(LogReg,param_grid = log_reg_param_grid, cv=5, scoring=\"accuracy\", verbose = 1)\n",
    "\n",
    "gsLogReg.fit(X_train,Y_train)\n",
    "\n",
    "LogReg_best = gsLogReg.best_estimator_\n",
    "\n",
    "print(\"The best Model Parameters is :\")\n",
    "print(LogReg_best)\n",
    "print(f\"With Cross Validation Score = {gsLogReg.best_score_}\")"
   ]
  },
  {
   "cell_type": "code",
   "execution_count": 115,
   "metadata": {
    "execution": {
     "iopub.execute_input": "2022-08-14T16:36:44.668208Z",
     "iopub.status.busy": "2022-08-14T16:36:44.66698Z",
     "iopub.status.idle": "2022-08-14T16:36:50.319004Z",
     "shell.execute_reply": "2022-08-14T16:36:50.317567Z",
     "shell.execute_reply.started": "2022-08-14T16:36:44.668098Z"
    }
   },
   "outputs": [
    {
     "data": {
      "text/plain": [
       "<module 'matplotlib.pyplot' from 'C:\\\\ProgramData\\\\Anaconda3\\\\lib\\\\site-packages\\\\matplotlib\\\\pyplot.py'>"
      ]
     },
     "execution_count": 115,
     "metadata": {},
     "output_type": "execute_result"
    },
    {
     "data": {
      "image/png": "[encoded data removed]",
      "text/plain": [
       "<Figure size 432x288 with 1 Axes>"
      ]
     },
     "metadata": {},
     "output_type": "display_data"
    }
   ],
   "source": [
    "plot_learning_curve(LogReg_best , \"Logistic Regression\" , X_train , Y_train)"
   ]
  },
  {
   "cell_type": "code",
   "execution_count": 116,
   "metadata": {
    "execution": {
     "iopub.execute_input": "2022-08-14T17:37:27.936833Z",
     "iopub.status.busy": "2022-08-14T17:37:27.935744Z",
     "iopub.status.idle": "2022-08-14T17:37:30.97432Z",
     "shell.execute_reply": "2022-08-14T17:37:30.973256Z",
     "shell.execute_reply.started": "2022-08-14T17:37:27.936788Z"
    }
   },
   "outputs": [
    {
     "data": {
      "text/plain": [
       "<catboost.core.CatBoostClassifier at 0x23b0b510c70>"
      ]
     },
     "execution_count": 116,
     "metadata": {},
     "output_type": "execute_result"
    }
   ],
   "source": [
    "from catboost import CatBoostClassifier\n",
    "cbc = CatBoostClassifier(verbose=0, n_estimators=600)\n",
    "cbc.fit(X_train, Y_train)"
   ]
  },
  {
   "cell_type": "code",
   "execution_count": 117,
   "metadata": {
    "execution": {
     "iopub.execute_input": "2022-08-14T17:38:27.298233Z",
     "iopub.status.busy": "2022-08-14T17:38:27.29778Z",
     "iopub.status.idle": "2022-08-14T17:38:40.846066Z",
     "shell.execute_reply": "2022-08-14T17:38:40.845072Z",
     "shell.execute_reply.started": "2022-08-14T17:38:27.298198Z"
    }
   },
   "outputs": [
    {
     "data": {
      "text/plain": [
       "0.7897208890206466"
      ]
     },
     "execution_count": 117,
     "metadata": {},
     "output_type": "execute_result"
    }
   ],
   "source": [
    "cross_val_score(cbc, X_train, y = Y_train, scoring = \"accuracy\", cv = 5).mean()"
   ]
  },
  {
   "cell_type": "code",
   "execution_count": 118,
   "metadata": {
    "execution": {
     "iopub.execute_input": "2022-08-14T17:42:19.136351Z",
     "iopub.status.busy": "2022-08-14T17:42:19.135768Z",
     "iopub.status.idle": "2022-08-14T17:42:44.841638Z",
     "shell.execute_reply": "2022-08-14T17:42:44.840139Z",
     "shell.execute_reply.started": "2022-08-14T17:42:19.136284Z"
    }
   },
   "outputs": [],
   "source": [
    "# ============================================================\n",
    "# Train on all Data\n",
    "# ============================================================\n",
    "GBC_all_data = GBC_best.fit(X_train , Y_train)\n",
    "RFC_all_data = RFC_best.fit(X_train , Y_train)\n",
    "ExtC_all_data = ExtC_best.fit(X_train , Y_train)\n",
    "LogReg_all_data = LogReg_best.fit(X_train , Y_train)\n",
    "cbc_all_data = cbc.fit(X_train , Y_train)"
   ]
  },
  {
   "cell_type": "code",
   "execution_count": 119,
   "metadata": {
    "execution": {
     "iopub.execute_input": "2022-08-14T17:42:50.035097Z",
     "iopub.status.busy": "2022-08-14T17:42:50.034626Z",
     "iopub.status.idle": "2022-08-14T17:43:15.75499Z",
     "shell.execute_reply": "2022-08-14T17:43:15.753464Z",
     "shell.execute_reply.started": "2022-08-14T17:42:50.035058Z"
    }
   },
   "outputs": [],
   "source": [
    "votingC = VotingClassifier(estimators=[('rfc', RFC_best), ('extc', ExtC_best),\n",
    "                                       ('gbc',GBC_best) , (\"logreg\" ,LogReg_best ) , (\"catboost\" , cbc)], voting='soft')\n",
    "\n",
    "votingC = votingC.fit(X_train, Y_train)"
   ]
  },
  {
   "cell_type": "code",
   "execution_count": 120,
   "metadata": {
    "execution": {
     "iopub.execute_input": "2022-08-13T17:08:41.39863Z",
     "iopub.status.busy": "2022-08-13T17:08:41.398209Z",
     "iopub.status.idle": "2022-08-13T17:08:42.114264Z",
     "shell.execute_reply": "2022-08-13T17:08:42.112551Z",
     "shell.execute_reply.started": "2022-08-13T17:08:41.398588Z"
    }
   },
   "outputs": [],
   "source": [
    "predictions = pd.Series(votingC.predict(X_test).astype(bool), name=\"Transported\")\n",
    "\n",
    "results = pd.concat([Test_Id,predictions],axis=1)\n",
    "\n",
    "results.to_csv(\"submission.csv\",index=False)"
   ]
  },
  {
   "cell_type": "code",
   "execution_count": null,
   "metadata": {},
   "outputs": [],
   "source": []
  },
  {
   "cell_type": "code",
   "execution_count": null,
   "metadata": {},
   "outputs": [],
   "source": []
  }
 ],
 "metadata": {
  "kernelspec": {
   "display_name": "Python 3 (ipykernel)",
   "language": "python",
   "name": "python3"
  },
  "language_info": {
   "codemirror_mode": {
    "name": "ipython",
    "version": 3
   },
   "file_extension": ".py",
   "mimetype": "text/x-python",
   "name": "python",
   "nbconvert_exporter": "python",
   "pygments_lexer": "ipython3",
   "version": "3.9.7"
  }
 },
 "nbformat": 4,
 "nbformat_minor": 4
}
